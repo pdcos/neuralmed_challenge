{
 "cells": [
  {
   "cell_type": "markdown",
   "metadata": {},
   "source": [
    "# Desafio de NLP - NeuralMed\n",
    "- **CANDIDATO:** Pedro Luís Azevedo Costa"
   ]
  },
  {
   "cell_type": "markdown",
   "metadata": {},
   "source": [
    "# Importações"
   ]
  },
  {
   "cell_type": "code",
   "execution_count": 1,
   "metadata": {},
   "outputs": [],
   "source": [
    "import pandas as pd\n",
    "import magic\n",
    "import unicodedata\n",
    "from bs4 import BeautifulSoup\n",
    "from striprtf.striprtf import rtf_to_text\n",
    "import re\n",
    "\n",
    "from IPython.display import HTML, display\n",
    "\n",
    "import spacy\n",
    "from spacy.tokens import DocBin\n",
    "from spacy.training.example import Example\n",
    "import random\n",
    "\n",
    "from spacy.training.example import Example\n",
    "from sklearn.metrics import precision_score, recall_score, f1_score\n",
    "\n",
    "\n"
   ]
  },
  {
   "cell_type": "markdown",
   "metadata": {},
   "source": [
    "# Etapa 1 \n",
    "- Faça uma análise descritiva em cima dos documentos. O que você conclui apenas olhando para eles? Qual a forma de escrita dos documentos? Há tipos diferentes? Olhando os textos consegue identificar alguma alteração comum entre os pacientes? "
   ]
  },
  {
   "cell_type": "markdown",
   "metadata": {},
   "source": [
    "## Carregando o dataset"
   ]
  },
  {
   "cell_type": "code",
   "execution_count": 2,
   "metadata": {},
   "outputs": [
    {
     "data": {
      "text/html": [
       "<div>\n",
       "<style scoped>\n",
       "    .dataframe tbody tr th:only-of-type {\n",
       "        vertical-align: middle;\n",
       "    }\n",
       "\n",
       "    .dataframe tbody tr th {\n",
       "        vertical-align: top;\n",
       "    }\n",
       "\n",
       "    .dataframe thead th {\n",
       "        text-align: right;\n",
       "    }\n",
       "</style>\n",
       "<table border=\"1\" class=\"dataframe\">\n",
       "  <thead>\n",
       "    <tr style=\"text-align: right;\">\n",
       "      <th></th>\n",
       "      <th>patient_id</th>\n",
       "      <th>age</th>\n",
       "      <th>sex</th>\n",
       "      <th>ehr_date</th>\n",
       "      <th>text</th>\n",
       "    </tr>\n",
       "  </thead>\n",
       "  <tbody>\n",
       "    <tr>\n",
       "      <th>0</th>\n",
       "      <td>341196</td>\n",
       "      <td>82.0</td>\n",
       "      <td>M</td>\n",
       "      <td>2023-09-05 10:23:37</td>\n",
       "      <td>&lt;html tasy=\"html5\"&gt;&lt;body&gt;&lt;p style=\"text-align:...</td>\n",
       "    </tr>\n",
       "    <tr>\n",
       "      <th>1</th>\n",
       "      <td>4309949</td>\n",
       "      <td>32.0</td>\n",
       "      <td>F</td>\n",
       "      <td>2023-11-01 12:10:59</td>\n",
       "      <td>&lt;html tasy=\"html5\"&gt;&lt;body&gt;&lt;p style=\"text-align:...</td>\n",
       "    </tr>\n",
       "    <tr>\n",
       "      <th>2</th>\n",
       "      <td>404932</td>\n",
       "      <td>91.0</td>\n",
       "      <td>M</td>\n",
       "      <td>2023-09-16 07:24:02</td>\n",
       "      <td>{\\rtf1\\ansi\\ansicpg1252{\\fonttbl{\\f0\\fnil\\fcha...</td>\n",
       "    </tr>\n",
       "    <tr>\n",
       "      <th>3</th>\n",
       "      <td>5603035</td>\n",
       "      <td>53.0</td>\n",
       "      <td>F</td>\n",
       "      <td>2024-08-03 06:56:48</td>\n",
       "      <td>RET 6 MESES PARA AVALIAÇÃO CALCIO + VIT D</td>\n",
       "    </tr>\n",
       "    <tr>\n",
       "      <th>4</th>\n",
       "      <td>154876</td>\n",
       "      <td>27.0</td>\n",
       "      <td>M</td>\n",
       "      <td>2023-11-05 04:58:01</td>\n",
       "      <td>{\\rtf1\\ansi\\ansicpg1252{\\fonttbl{\\f0\\fnil\\fcha...</td>\n",
       "    </tr>\n",
       "  </tbody>\n",
       "</table>\n",
       "</div>"
      ],
      "text/plain": [
       "   patient_id   age sex             ehr_date  \\\n",
       "0      341196  82.0   M  2023-09-05 10:23:37   \n",
       "1     4309949  32.0   F  2023-11-01 12:10:59   \n",
       "2      404932  91.0   M  2023-09-16 07:24:02   \n",
       "3     5603035  53.0   F  2024-08-03 06:56:48   \n",
       "4      154876  27.0   M  2023-11-05 04:58:01   \n",
       "\n",
       "                                                text  \n",
       "0  <html tasy=\"html5\"><body><p style=\"text-align:...  \n",
       "1  <html tasy=\"html5\"><body><p style=\"text-align:...  \n",
       "2  {\\rtf1\\ansi\\ansicpg1252{\\fonttbl{\\f0\\fnil\\fcha...  \n",
       "3          RET 6 MESES PARA AVALIAÇÃO CALCIO + VIT D  \n",
       "4  {\\rtf1\\ansi\\ansicpg1252{\\fonttbl{\\f0\\fnil\\fcha...  "
      ]
     },
     "execution_count": 2,
     "metadata": {},
     "output_type": "execute_result"
    }
   ],
   "source": [
    "file_path = \"sample_teste_nlp.csv\"\n",
    "df_doc = pd.read_csv(file_path)\n",
    "df_doc.head()"
   ]
  },
  {
   "cell_type": "markdown",
   "metadata": {},
   "source": [
    "## Análise Exploratória  \n",
    "\n",
    "O dataset contém 5 colunas:  \n",
    "- `patient_id`: numérica  \n",
    "- `age`: numérica  \n",
    "- `sex`: categórica  \n",
    "- `ehr_date`: datetime  \n",
    "- `text`: textual  \n",
    "\n",
    "Conforme mencionado no enunciado, o foco deste exercício está na coluna `text`, que contém os documentos a serem analisados. Ao observar as primeiras 5 linhas do dataset, é possível identificar três tipos diferentes de formatação de texto: **plain text**, **HTML** e **RTF**.  \n",
    "\n",
    "Assim, o primeiro passo desta análise preliminar é descobrir todos os tipos possíveis de formatação.  \n"
   ]
  },
  {
   "cell_type": "code",
   "execution_count": 3,
   "metadata": {},
   "outputs": [
    {
     "name": "stdout",
     "output_type": "stream",
     "text": [
      "Tipos de texto encontrados:  ['text/html' 'text/rtf' 'text/plain']\n",
      "Quantidade de textos por tipo:  text_type\n",
      "text/html     4253\n",
      "text/rtf      1852\n",
      "text/plain     729\n",
      "Name: count, dtype: int64\n"
     ]
    }
   ],
   "source": [
    "def detect_mime_type(text):\n",
    "    \"\"\"\n",
    "    Detecta a formatação do texto\n",
    "    \"\"\"\n",
    "    mime = magic.Magic(mime=True)\n",
    "    return mime.from_buffer(text.encode('utf-8'))\n",
    "\n",
    "# Aplica a função detect_mime_type na coluna 'text' do dataframe\n",
    "df_doc['text_type'] = df_doc['text'].apply(lambda x: detect_mime_type(x))\n",
    "\n",
    "tipos_texto = df_doc['text_type'].unique()\n",
    "\n",
    "print(\"Tipos de texto encontrados: \", tipos_texto)\n",
    "\n",
    "# Quantidade de textos por tipo\n",
    "count_text_type = df_doc['text_type'].value_counts()\n",
    "\n",
    "print(\"Quantidade de textos por tipo: \", count_text_type)\n"
   ]
  },
  {
   "cell_type": "markdown",
   "metadata": {},
   "source": [
    "Conforme mostrado na célula acima, identificamos três tipos de texto, com predominância de **HTML**, que será o foco da análise.  \n",
    "\n",
    "Embora o ideal fosse realizar uma avaliação cuidadosa de cada tipo de texto, devido às restrições de tempo e recursos, concentraremos nossos esforços no formato **HTML**. Esse formato foi escolhido por sua maior predominância e pela estrutura mais simples de navegar em comparação aos demais.  \n"
   ]
  },
  {
   "cell_type": "markdown",
   "metadata": {},
   "source": [
    "## Visualizando Exemplos"
   ]
  },
  {
   "cell_type": "code",
   "execution_count": 4,
   "metadata": {},
   "outputs": [
    {
     "data": {
      "text/html": [
       "<html tasy=\"html5\"><body><p style=\"text-align:left;\"><span style=\"font-style: normal; font-variant: normal; font-stretch: normal; font-size: 11pt; font-family: Arial; color: rgb(0, 0, 0); background-color: rgb(255, 255, 255);\">                                                         <strong>  ANAMNESE - CENTRO CLÍNICO</strong></span></p><p style=\"text-align:left;\"> </p><p style=\"text-align:left;\"><span style=\"\">Queixa Principal: DOR INGUINOESCROTAL ESQ A/E</span></p><p style=\"text-align:left;\"> </p><p style=\"text-align:left;\">Alergias: Nega Alergia à Medicamentos</p><p style=\"text-align:left;\"> </p><p style=\"text-align:left;\"><span style=\"\">HDA: </span></p><p style=\"text-align:left;\"> </p><p style=\"text-align:left;\"><span style=\"\">HPP: </span></p><p style=\"text-align:left;\"> </p><p style=\"text-align:left;\"><span style=\"\"><span style=\"\">Sinais Vitais</span></span></p><p style=\"text-align: justify;\"><span style=\"font-size:14px;\"><strong>PA: </strong>  X    <strong>FC: </strong>   <strong>FR:</strong>     <strong>T:</strong>   <strong>   Dor:</strong>   </span></p><p style=\"text-align: justify;\"> </p><p style=\"text-align: justify;\">Exame Físico:</p><p style=\"text-align: justify;\"> </p><p style=\"text-align: justify;\">Hipótese Diagnóstica:HERNIA INGUINAL</p><p style=\"text-align: justify;\"> </p><p style=\"text-align: justify;\">Conduta:EXAMES </p><p style=\"text-align: justify;\"> </p><p style=\"text-align:left; font-size:16px;\"><span style=\"font-size:16px;\">&#x200B;</span></p></body></html>"
      ],
      "text/plain": [
       "<IPython.core.display.HTML object>"
      ]
     },
     "metadata": {},
     "output_type": "display_data"
    },
    {
     "data": {
      "text/html": [
       "<html tasy=\"html5\"><body><p style=\"text-align: center;\"><strong><em><span style=\"\">ANOTAÇÃO DE ENFERMAGEM</span></em></strong></p><p><span style=\"\">21:30hAdmitida na RA em maca com grades elevadas acompanhada da enfermagem,paciente acomodada em leito,calma,hidratada,eupneica,mantendo avp em mse,sem sinais flogisticos,pulseira de identificação conferida,diurese presente em svd com débito de 100ml amarelo claro,evacuaçãoes ausente no momento,nega alergia medicamentosa no momento,chamar sempre que necessário.</span></p><p><span style=\"\">&#x200B;22:00hMedicado conforme prescrição CETOPROFENO EV.</span></p><p><span style=\"\">&#x200B;23:30hEncaminhada para o alojamento conjunto em maca com grades elevadas,acompanhada da enfermagem leito (717-b).</span></p><p> </p><p><span style=\"\">21:30hAdmitido RN em top baby,ativo,hidratado,eupneico,mantendo pulseira de dupla identificação conferido com genitora,eliminações fisiologicas ausente até o momento,encaminhada para a maternidade em top baby.</span></p><p><span style=\"\">&#x200B;22:00hP<span style=\"\">osiconado em seio,apresnta boa pega e sucção.</span> </span></p><p><span style=\"\">&#x200B;23:30hEncaminhada em top baby,para o alojemento conjunto.</span></p><p> </p><p style=\"text-align:center;\"> </p><p style=\"text-align:left;\"> </p><p style=\"text-align:center;\"> </p><p style=\"text-align:left;\"> </p><p> </p><p style=\"text-align:left;\"> </p><p style=\"text-align:center;\"> </p><p style=\"text-align:left; font-size:16px;\"><span style=\"font-size:16px;\">&#x200B;</span></p><p> </p></body></html>"
      ],
      "text/plain": [
       "<IPython.core.display.HTML object>"
      ]
     },
     "metadata": {},
     "output_type": "display_data"
    },
    {
     "data": {
      "text/html": [
       "<html tasy=\"html5\"><body><p style=\"text-align:center;\"><span style=\"font-style: normal; font-variant: normal; font-kerning: auto; font-optical-sizing: auto; font-feature-settings: normal; font-variation-settings: normal; font-stretch: normal; font-size: 10pt; font-family: Arial; color: rgb(0, 0, 0); background-color: rgb(255, 255, 255);\"><strong>EVOLUÇÃO MÉDICA AMBULATORIAL</strong></span></p><p style=\"text-align:center;\"><span style=\"font-style: normal; font-variant: normal; font-kerning: auto; font-optical-sizing: auto; font-feature-settings: normal; font-variation-settings: normal; font-stretch: normal; font-size: 10pt; font-family: Arial; color: rgb(0, 0, 0);\"><strong> </strong></span></p><p style=\"text-align:left;\"><span style=\"font-style: normal; font-variant: normal; font-kerning: auto; font-optical-sizing: auto; font-feature-settings: normal; font-variation-settings: normal; font-stretch: normal; font-size: 10pt; font-family: Arial; color: rgb(0, 0, 0);\"><strong> </strong></span></p><p><span style=\"font-size:16px;\"><span style=\"\">* ENDOCRINOLOGIA * </span></span></p><p><span style=\"font-size:16px;\"><span style=\"\">&#x200B;</span></span></p><p><span style=\"font-size:16px;\"><span style=\"\">PACIENTE COM DESEJO DE PERDA DE PESO</span></span></p><p><span style=\"font-size:16px;\"><span style=\"\">&#x200B;RELATA ANSIEDADE</span></span></p><p><span style=\"font-size:16px;\"><span style=\"\">&#x200B;</span></span></p><p><span style=\"font-size:16px;\"><span style=\"\">NEGA COMORBIDADES<br />\n",
       "NEGA ALERGIAS MEDICAMENTOSAS<br />\n",
       "NEGA GESTAÇÃO</span></span></p><p><span style=\"font-size:16px;\"><span style=\"\">&#x200B;</span></span></p><p><span style=\"font-size:16px;\"><span style=\"\">ALTURA: 1,55M<br />\n",
       "PESO: 90,5KG (15/01/2024)<br />\n",
       "IMC: 37,66</span></span></p><p><span style=\"font-size:16px;\"><span style=\"\">&#x200B;</span></span></p><p><span style=\"font-size:16px;\"><span style=\"\">ORIENTAÇÕES GERAIS<br />\n",
       "OREINTO SINAIS DE ALARME<br />\n",
       "ORIENTO MUDANÇAS DE ESTILO DE VIDA</span></span></p><p><span style=\"font-size:16px;\"><span style=\"\">SOLICITO EXAMES GERAIS</span></span></p><p><span style=\"font-size:16px;\"><span style=\"\">AMATO 25MG<br />\n",
       "PACIENTE CIENTE E CONCORDANTE</span></span></p></body></html>"
      ],
      "text/plain": [
       "<IPython.core.display.HTML object>"
      ]
     },
     "metadata": {},
     "output_type": "display_data"
    },
    {
     "data": {
      "text/html": [
       "<html tasy=\"html5\"><body><p style=\"text-align:left;\"><span style=\"font-style: normal; font-variant: normal; font-stretch: normal; font-size: 11pt; font-family: Arial; color: rgb(0, 0, 0); background-color: rgb(255, 255, 255);\">                                                         <strong>  ANAMNESE - CENTRO CLÍNICO</strong></span></p><p style=\"text-align:left;\"> </p><p style=\"text-align:left;\"><span style=\"\">Queixa Principal:   tem pedido de exames  pelo nutricionista   </span></p><p style=\"text-align:left;\"> </p><p style=\"text-align:left;\">Alergias: Paciente nega alergias</p><p style=\"text-align:left;\"> </p><p style=\"text-align:left;\"> </p><p style=\"text-align: justify;\"> </p><p style=\"text-align: justify;\"> </p><p style=\"text-align: justify;\">Hipótese Diagnóstica:  z10</p><p style=\"text-align: justify;\"> </p><p style=\"text-align: justify;\">Conduta:  lab protocolo   </p><p style=\"text-align: justify;\"> </p><p style=\"text-align:left; font-size:16px;\"><span style=\"font-size:16px;\">&#x200B;</span></p></body></html>"
      ],
      "text/plain": [
       "<IPython.core.display.HTML object>"
      ]
     },
     "metadata": {},
     "output_type": "display_data"
    },
    {
     "data": {
      "text/html": [
       "<html tasy=\"html5\"><body><p style=\"text-align:left;\"><span style=\"font-style: normal; font-variant: normal; font-stretch: normal; font-size: 11pt; font-family: Arial; color: rgb(0, 0, 0); background-color: rgb(255, 255, 255);\">                                                         <strong>  ANAMNESE - CENTRO CLÍNICO</strong></span></p><p style=\"text-align:left;\"> </p><p style=\"text-align:left;\"><span style=\"\">Queixa Principal: TUMORAÇÃO 2º DEDO PÉ DIR HA TEMPOS</span></p><p style=\"text-align:left;\"> </p><p style=\"text-align:left;\">Alergias: Nega Alergia à Medicamentos</p><p style=\"text-align:left;\"> </p><p style=\"text-align:left;\"><span style=\"\">HDA: </span></p><p style=\"text-align:left;\"> </p><p style=\"text-align:left;\"><span style=\"\">HPP: </span></p><p style=\"text-align:left;\"> </p><p style=\"text-align:left;\"><span style=\"\"><span style=\"\">Sinais Vitais</span></span></p><p style=\"text-align: justify;\"><span style=\"font-size:14px;\"><strong>PA: </strong>  X    <strong>FC: </strong>   <strong>FR:</strong>     <strong>T:</strong>   <strong>   Dor:</strong>   </span></p><p style=\"text-align: justify;\"> </p><p style=\"text-align: justify;\">Exame Físico:TUMORAÇÃO NO 2º DEDO DO PÉ DIR</p><p style=\"text-align: justify;\"> </p><p style=\"text-align: justify;\">Hipótese Diagnóstica:TUMORAÇÃO PÉ DIR</p><p style=\"text-align: justify;\"> </p><p style=\"text-align: justify;\">Conduta:RNM PÉ DIR</p><p style=\"text-align: justify;\"> </p><p style=\"text-align:left; font-size:16px;\"><span style=\"font-size:16px;\">&#x200B;</span></p></body></html>"
      ],
      "text/plain": [
       "<IPython.core.display.HTML object>"
      ]
     },
     "metadata": {},
     "output_type": "display_data"
    },
    {
     "data": {
      "text/html": [
       "<html tasy=\"html5\"><body><p style=\"text-align: center; margin-top: 5px; margin-bottom: 5px;\"><span style=\"\"><span style=\"font-size:11pt; font-variant:normal; white-space:pre-wrap\"><span style=\"font-family:Arial,sans-serif\"><span style=\"color:#000000\"><span style=\"font-weight:700\"><span style=\"font-style:normal\"><span style=\"text-decoration:none\">ANAMNESE / EXAME FÍSICO PS ADULTO </span></span></span></span></span></span></span></p><p> </p><p style=\"line-height:1.38\"><span style=\"\"><span style=\"font-size:11pt; font-variant:normal; white-space:pre-wrap\"><span style=\"font-family:Arial,sans-serif\"><span style=\"color:#000000\"><span style=\"font-weight:700\"><span style=\"font-style:normal\"><span style=\"text-decoration:none\">HMA</span></span></span></span></span></span><span style=\"font-size:11pt; font-variant:normal; white-space:pre-wrap\"><span style=\"font-family:Arial,sans-serif\"><span style=\"color:#000000\"><span style=\"font-weight:400\"><span style=\"font-style:normal\"><span style=\"text-decoration:none\">: Paciente queixa-se de rinorréia há 2 dias associado a odinofagia. </span></span></span></span></span></span></span></p><p style=\"line-height:1.38\"><span style=\"\"><span style=\"font-size:11pt; font-variant:normal; white-space:pre-wrap\"><span style=\"font-family:Arial,sans-serif\"><span style=\"color:#000000\"><span style=\"font-weight:400\"><span style=\"font-style:normal\"><span style=\"text-decoration:none\">Nega febre, outros sintomas respiratórios, gastrointestinais, urinários ou quaisquer outras queixas. </span></span></span></span></span></span></span></p><p> </p><p style=\"line-height:1.38\"><span style=\"\"><span style=\"font-size:11pt; font-variant:normal; white-space:pre-wrap\"><span style=\"font-family:Arial,sans-serif\"><span style=\"color:#000000\"><span style=\"font-weight:700\"><span style=\"font-style:normal\"><span style=\"text-decoration:none\">ALERGIA</span></span></span></span></span></span><span style=\"font-size:11pt; font-variant:normal; white-space:pre-wrap\"><span style=\"font-family:Arial,sans-serif\"><span style=\"color:#000000\"><span style=\"font-weight:400\"><span style=\"font-style:normal\"><span style=\"text-decoration:none\">: Nega.</span></span></span></span></span></span></span></p><p style=\"line-height:1.38\"><span style=\"\"><span style=\"font-size:11pt; font-variant:normal; white-space:pre-wrap\"><span style=\"font-family:Arial,sans-serif\"><span style=\"color:#000000\"><span style=\"font-weight:700\"><span style=\"font-style:normal\"><span style=\"text-decoration:none\">AP</span></span></span></span></span></span><span style=\"font-size:11pt; font-variant:normal; white-space:pre-wrap\"><span style=\"font-family:Arial,sans-serif\"><span style=\"color:#000000\"><span style=\"font-weight:400\"><span style=\"font-style:normal\"><span style=\"text-decoration:none\">: HAS.</span></span></span></span></span></span></span></p><p style=\"line-height:1.38\"><span style=\"\"><span style=\"font-size:11pt; font-variant:normal; white-space:pre-wrap\"><span style=\"font-family:Arial,sans-serif\"><span style=\"color:#000000\"><span style=\"font-weight:700\"><span style=\"font-style:normal\"><span style=\"text-decoration:none\">MUC</span></span></span></span></span></span><span style=\"font-size:11pt; font-variant:normal; white-space:pre-wrap\"><span style=\"font-family:Arial,sans-serif\"><span style=\"color:#000000\"><span style=\"font-weight:400\"><span style=\"font-style:normal\"><span style=\"text-decoration:none\">: LOSARTANA, HTZ, ANLODIPINO, FINASTERIDA.</span></span></span></span></span></span></span></p><p> </p><p style=\"line-height:1.38\"><span style=\"\"><span style=\"font-size:11pt; font-variant:normal; white-space:pre-wrap\"><span style=\"font-family:Arial,sans-serif\"><span style=\"color:#000000\"><span style=\"font-weight:700\"><span style=\"font-style:normal\"><span style=\"text-decoration:none\">EXAME FÍSICO: </span></span></span></span></span></span></span></p><p style=\"line-height:1.38\"><span style=\"\"><span style=\"font-size:11pt; font-variant:normal; white-space:pre-wrap\"><span style=\"font-family:Arial,sans-serif\"><span style=\"color:#000000\"><span style=\"font-weight:400\"><span style=\"font-style:normal\"><span style=\"text-decoration:none\">FC: 66 /  SatO2: 96%</span></span></span></span></span></span></span></p><p style=\"line-height:1.38\"><span style=\"\"><span style=\"font-size:11pt; font-variant:normal; white-space:pre-wrap\"><span style=\"font-family:Arial,sans-serif\"><span style=\"color:#000000\"><span style=\"font-weight:700\"><span style=\"font-style:normal\"><span style=\"text-decoration:none\">Ectoscopia</span></span></span></span></span></span><span style=\"font-size:11pt; font-variant:normal; white-space:pre-wrap\"><span style=\"font-family:Arial,sans-serif\"><span style=\"color:#000000\"><span style=\"font-weight:400\"><span style=\"font-style:normal\"><span style=\"text-decoration:none\">: BEG, LOTE, CHAAA, eupneico.</span></span></span></span></span></span></span></p><p style=\"line-height:1.38\"><span style=\"\"><span style=\"font-size:11pt; font-variant:normal; white-space:pre-wrap\"><span style=\"font-family:Arial,sans-serif\"><span style=\"color:#000000\"><span style=\"font-weight:700\"><span style=\"font-style:normal\"><span style=\"text-decoration:none\">Oroscopia: </span></span></span></span></span></span><span style=\"font-size:11pt; font-variant:normal; white-space:pre-wrap\"><span style=\"font-family:Arial,sans-serif\"><span style=\"color:#000000\"><span style=\"font-weight:400\"><span style=\"font-style:normal\"><span style=\"text-decoration:none\">ausência de pus, edema ou hiperemia</span></span></span></span></span></span></span></p><p style=\"line-height:1.38\"><span style=\"\"><span style=\"font-size:11pt; font-variant:normal; white-space:pre-wrap\"><span style=\"font-family:Arial,sans-serif\"><span style=\"color:#000000\"><span style=\"font-weight:700\"><span style=\"font-style:normal\"><span style=\"text-decoration:none\">Neurológico: </span></span></span></span></span></span><span style=\"font-size:11pt; font-variant:normal; white-space:pre-wrap\"><span style=\"font-family:Arial,sans-serif\"><span style=\"color:#000000\"><span style=\"font-weight:400\"><span style=\"font-style:normal\"><span style=\"text-decoration:none\">ECG 15. Ausência de sinais focais ou sinais meníngeos. </span></span></span></span></span></span></span></p><p style=\"line-height:1.38\"><span style=\"\"><span style=\"font-size:11pt; font-variant:normal; white-space:pre-wrap\"><span style=\"font-family:Arial,sans-serif\"><span style=\"color:#000000\"><span style=\"font-weight:700\"><span style=\"font-style:normal\"><span style=\"text-decoration:none\">Pele e anexos: </span></span></span></span></span></span><span style=\"font-size:11pt; font-variant:normal; white-space:pre-wrap\"><span style=\"font-family:Arial,sans-serif\"><span style=\"color:#000000\"><span style=\"font-weight:400\"><span style=\"font-style:normal\"><span style=\"text-decoration:none\">ausência de lesões ou erupções cutâneas. </span></span></span></span></span></span></span></p><p style=\"line-height:1.38\"><span style=\"\"><span style=\"font-size:11pt; font-variant:normal; white-space:pre-wrap\"><span style=\"font-family:Arial,sans-serif\"><span style=\"color:#000000\"><span style=\"font-weight:700\"><span style=\"font-style:normal\"><span style=\"text-decoration:none\">Cabeça e pescoço</span></span></span></span></span></span><span style=\"font-size:11pt; font-variant:normal; white-space:pre-wrap\"><span style=\"font-family:Arial,sans-serif\"><span style=\"color:#000000\"><span style=\"font-weight:400\"><span style=\"font-style:normal\"><span style=\"text-decoration:none\">: Ausência de linfonodomegalias. Sem alterações. </span></span></span></span></span></span></span></p><p style=\"line-height:1.38\"><span style=\"\"><span style=\"font-size:11pt; font-variant:normal; white-space:pre-wrap\"><span style=\"font-family:Arial,sans-serif\"><span style=\"color:#000000\"><span style=\"font-weight:700\"><span style=\"font-style:normal\"><span style=\"text-decoration:none\">ACV</span></span></span></span></span></span><span style=\"font-size:11pt; font-variant:normal; white-space:pre-wrap\"><span style=\"font-family:Arial,sans-serif\"><span style=\"color:#000000\"><span style=\"font-weight:400\"><span style=\"font-style:normal\"><span style=\"text-decoration:none\">: bulhas rítmicas, normofonéticas, em 2 tempos, sem sopros. Pulsos radiais simétricos.</span></span></span></span></span></span></span></p><p style=\"line-height:1.38\"><span style=\"\"><span style=\"font-size:11pt; font-variant:normal; white-space:pre-wrap\"><span style=\"font-family:Arial,sans-serif\"><span style=\"color:#000000\"><span style=\"font-weight:700\"><span style=\"font-style:normal\"><span style=\"text-decoration:none\">AP</span></span></span></span></span></span><span style=\"font-size:11pt; font-variant:normal; white-space:pre-wrap\"><span style=\"font-family:Arial,sans-serif\"><span style=\"color:#000000\"><span style=\"font-weight:400\"><span style=\"font-style:normal\"><span style=\"text-decoration:none\">: murmúrios vesiculares presentes, sem ruídos adventícios.</span></span></span></span></span></span></span></p><p style=\"line-height:1.38\"><span style=\"\"><span style=\"font-size:11pt; font-variant:normal; white-space:pre-wrap\"><span style=\"font-family:Arial,sans-serif\"><span style=\"color:#000000\"><span style=\"font-weight:700\"><span style=\"font-style:normal\"><span style=\"text-decoration:none\">ABD</span></span></span></span></span></span><span style=\"font-size:11pt; font-variant:normal; white-space:pre-wrap\"><span style=\"font-family:Arial,sans-serif\"><span style=\"color:#000000\"><span style=\"font-weight:400\"><span style=\"font-style:normal\"><span style=\"text-decoration:none\">: RHA+, flácido, indolor à palpação, sem VCM, DB -, Giordano -</span></span></span></span></span></span></span></p><p style=\"line-height:1.38\"><span style=\"\"><span style=\"font-size:11pt; font-variant:normal; white-space:pre-wrap\"><span style=\"font-family:Arial,sans-serif\"><span style=\"color:#000000\"><span style=\"font-weight:700\"><span style=\"font-style:normal\"><span style=\"text-decoration:none\">Membros</span></span></span></span></span></span><span style=\"font-size:11pt; font-variant:normal; white-space:pre-wrap\"><span style=\"font-family:Arial,sans-serif\"><span style=\"color:#000000\"><span style=\"font-weight:400\"><span style=\"font-style:normal\"><span style=\"text-decoration:none\">: sem edemas ou sinais de TVP. Pulsos cheios e simétricos. Panturrilhas livres.</span></span></span></span></span></span></span></p><p> </p><p style=\"line-height:1.38\"><span style=\"\"><span style=\"font-size:11pt; font-variant:normal; white-space:pre-wrap\"><span style=\"font-family:Arial,sans-serif\"><span style=\"color:#000000\"><span style=\"font-weight:700\"><span style=\"font-style:normal\"><span style=\"text-decoration:none\">HD</span></span></span></span></span></span><span style=\"font-size:11pt; font-variant:normal; white-space:pre-wrap\"><span style=\"font-family:Arial,sans-serif\"><span style=\"color:#000000\"><span style=\"font-weight:400\"><span style=\"font-style:normal\"><span style=\"text-decoration:none\">: J00</span></span></span></span></span></span></span></p><p> </p><p style=\"line-height:1.38\"><span style=\"\"><span style=\"font-size:11pt; font-variant:normal; white-space:pre-wrap\"><span style=\"font-family:Arial,sans-serif\"><span style=\"color:#000000\"><span style=\"font-weight:700\"><span style=\"font-style:normal\"><span style=\"text-decoration:none\">Conduta</span></span></span></span></span></span><span style=\"font-size:11pt; font-variant:normal; white-space:pre-wrap\"><span style=\"font-family:Arial,sans-serif\"><span style=\"color:#000000\"><span style=\"font-weight:400\"><span style=\"font-style:normal\"><span style=\"text-decoration:none\">:</span></span></span></span></span></span></span></p><p style=\"line-height:1.38\"><span style=\"\"><span style=\"font-size:11pt; font-variant:normal; white-space:pre-wrap\"><span style=\"font-family:Arial,sans-serif\"><span style=\"color:#000000\"><span style=\"font-weight:400\"><span style=\"font-style:normal\"><span style=\"text-decoration:none\">- Prescrevo </span></span></span></span></span></span></span></p><p style=\"line-height:1.38\"><span style=\"\"><span style=\"font-size:11pt; font-variant:normal; white-space:pre-wrap\"><span style=\"font-family:Arial,sans-serif\"><span style=\"color:#000000\"><span style=\"font-weight:400\"><span style=\"font-style:normal\"><span style=\"text-decoration:none\">- Prescrevo sintomáticos para casa</span></span></span></span></span></span></span></p><p style=\"line-height:1.38\"><span style=\"\"><span style=\"font-size:11pt; font-variant:normal; white-space:pre-wrap\"><span style=\"font-family:Arial,sans-serif\"><span style=\"color:#000000\"><span style=\"font-weight:400\"><span style=\"font-style:normal\"><span style=\"text-decoration:none\">- Forneço atestado médico de hoje</span></span></span></span></span></span></span></p><p style=\"line-height:1.38\"><span style=\"\"><span style=\"font-size:11pt; font-variant:normal; white-space:pre-wrap\"><span style=\"font-family:Arial,sans-serif\"><span style=\"color:#000000\"><span style=\"font-weight:400\"><span style=\"font-style:normal\"><span style=\"text-decoration:none\">- Paciente de acordo com a conduta</span></span></span></span></span></span></span></p><p style=\"line-height:1.38\"><span style=\"\"><span style=\"font-size:11pt; font-variant:normal; white-space:pre-wrap\"><span style=\"font-family:Arial,sans-serif\"><span style=\"color:#000000\"><span style=\"font-weight:400\"><span style=\"font-style:normal\"><span style=\"text-decoration:none\">- Oriento cuidados gerais</span></span></span></span></span></span></span></p><p style=\"line-height:1.38\"><span style=\"\"><span style=\"font-size:11pt; font-variant:normal; white-space:pre-wrap\"><span style=\"font-family:Arial,sans-serif\"><span style=\"color:#000000\"><span style=\"font-weight:400\"><span style=\"font-style:normal\"><span style=\"text-decoration:none\">- Oriento retorno ao PS caso sinais de alarme.</span></span></span></span></span></span></span></p><p style=\"line-height:1.38\"><span style=\"\"><span style=\"font-size:11pt; font-variant:normal; white-space:pre-wrap\"><span style=\"font-family:Arial,sans-serif\"><span style=\"color:#000000\"><span style=\"font-weight:400\"><span style=\"font-style:normal\"><span style=\"text-decoration:none\">- Alta do PS</span></span></span></span></span></span></span></p></body></html>"
      ],
      "text/plain": [
       "<IPython.core.display.HTML object>"
      ]
     },
     "metadata": {},
     "output_type": "display_data"
    }
   ],
   "source": [
    "# Avaliando alguns textos em HTML\n",
    "\n",
    "df_filtered_html = df_doc.loc[df_doc['text_type'] == 'text/html']\n",
    "\n",
    "display(HTML(df_filtered_html['text'].iloc[0]))\n",
    "display(HTML(df_filtered_html['text'].iloc[100]))\n",
    "display(HTML(df_filtered_html['text'].iloc[200]))\n",
    "display(HTML(df_filtered_html['text'].iloc[300]))\n",
    "display(HTML(df_filtered_html['text'].iloc[400]))\n",
    "display(HTML(df_filtered_html['text'].iloc[500]))\n",
    "\n",
    "\n"
   ]
  },
  {
   "cell_type": "markdown",
   "metadata": {},
   "source": [
    "## Extraindo Padrões"
   ]
  },
  {
   "cell_type": "markdown",
   "metadata": {},
   "source": [
    "Ao observar os documentos acima, é possível notar que alguns possuem um formato que facilita a anotação de diagnósticos. Há um campo chamado **\"Hipótese Diagnóstica\"** e, logo após, uma sigla ou o nome completo do diagnóstico.  \n",
    "\n",
    "Para este trabalho, vamos nos focar nesse atributo.  \n",
    "\n",
    "Deste modo, o próximo passo é definir uma função capaz de extrair estes rótulos."
   ]
  },
  {
   "cell_type": "code",
   "execution_count": 5,
   "metadata": {},
   "outputs": [
    {
     "data": {
      "text/plain": [
       "'<html tasy=\"html5\"><body><p style=\"text-align:left;\"><span style=\"font-style: normal; font-variant: normal; font-stretch: normal; font-size: 11pt; font-family: Arial; color: rgb(0, 0, 0); background-color: rgb(255, 255, 255);\">\\xa0 \\xa0 \\xa0 \\xa0 \\xa0 \\xa0 \\xa0 \\xa0 \\xa0 \\xa0 \\xa0 \\xa0 \\xa0 \\xa0 \\xa0 \\xa0 \\xa0 \\xa0 \\xa0 \\xa0 \\xa0 \\xa0 \\xa0 \\xa0 \\xa0 \\xa0 \\xa0 \\xa0 \\xa0<strong>\\xa0 ANAMNESE - CENTRO CLÍNICO</strong></span></p><p style=\"text-align:left;\">\\xa0</p><p style=\"text-align:left;\"><span style=\"\">Queixa Principal: TUMORAÇÃO 2º DEDO PÉ DIR HA TEMPOS</span></p><p style=\"text-align:left;\">\\xa0</p><p style=\"text-align:left;\">Alergias: Nega Alergia à Medicamentos</p><p style=\"text-align:left;\">\\xa0</p><p style=\"text-align:left;\"><span style=\"\">HDA:\\xa0</span></p><p style=\"text-align:left;\">\\xa0</p><p style=\"text-align:left;\"><span style=\"\">HPP:\\xa0</span></p><p style=\"text-align:left;\">\\xa0</p><p style=\"text-align:left;\"><span style=\"\"><span style=\"\">Sinais Vitais</span></span></p><p style=\"text-align: justify;\"><span style=\"font-size:14px;\"><strong>PA:\\xa0</strong>\\xa0 X\\xa0 \\xa0 <strong>FC:\\xa0</strong>\\xa0 \\xa0<strong>FR:</strong>\\xa0 \\xa0 \\xa0<strong>T:</strong>\\xa0 \\xa0<strong>\\xa0 \\xa0Dor:</strong>\\xa0 \\xa0</span></p><p style=\"text-align: justify;\">\\xa0</p><p style=\"text-align: justify;\">Exame Físico:TUMORAÇÃO NO 2º DEDO DO PÉ DIR</p><p style=\"text-align: justify;\">\\xa0</p><p style=\"text-align: justify;\">Hipótese Diagnóstica:TUMORAÇÃO PÉ DIR</p><p style=\"text-align: justify;\">\\xa0</p><p style=\"text-align: justify;\">Conduta:RNM PÉ DIR</p><p style=\"text-align: justify;\">\\xa0</p><p style=\"text-align:left; font-size:16px;\"><span style=\"font-size:16px;\">&#x200B;</span></p></body></html>'"
      ]
     },
     "execution_count": 5,
     "metadata": {},
     "output_type": "execute_result"
    }
   ],
   "source": [
    "df_filtered_html['text'].iloc[400]"
   ]
  },
  {
   "cell_type": "code",
   "execution_count": 6,
   "metadata": {},
   "outputs": [],
   "source": [
    "def extrair_hipotese_diagnostica(html):\n",
    "    # Parseia o HTML\n",
    "    soup = BeautifulSoup(html, 'html.parser')\n",
    "\n",
    "    # Encontra o texto que vem após 'Hipótese Diagnóstica:'\n",
    "    texto = soup.get_text()\n",
    "\n",
    "    # Usando regex para encontrar o texto após 'Hipótese Diagnóstica:'\n",
    "    padrao = re.compile(r'Hipótese Diagnóstica:([^\\n]+)')\n",
    "    resultado = padrao.search(texto)\n",
    "\n",
    "    if resultado:\n",
    "        match_result = resultado.group(1).strip()\n",
    "        match_result = match_result.replace('\\xa0', '||')\n",
    "        match_result = match_result.replace('\\u200b', '||')\n",
    "        match_result = match_result.split('||')[0]\n",
    "\n",
    "        return match_result  # Retorna o texto após 'Hipótese Diagnóstica:'\n",
    "    else:\n",
    "        return None  # Caso não encontre o padrão\n",
    "\n",
    "extrair_hipotese_diagnostica(df_filtered_html['text'].iloc[5])"
   ]
  },
  {
   "cell_type": "code",
   "execution_count": 7,
   "metadata": {},
   "outputs": [
    {
     "name": "stderr",
     "output_type": "stream",
     "text": [
      "/tmp/ipykernel_866699/2961999388.py:3: MarkupResemblesLocatorWarning: The input looks more like a filename than markup. You may want to open this file and pass the filehandle into Beautiful Soup.\n",
      "  soup = BeautifulSoup(html, 'html.parser')\n"
     ]
    },
    {
     "data": {
      "text/html": [
       "<div>\n",
       "<style scoped>\n",
       "    .dataframe tbody tr th:only-of-type {\n",
       "        vertical-align: middle;\n",
       "    }\n",
       "\n",
       "    .dataframe tbody tr th {\n",
       "        vertical-align: top;\n",
       "    }\n",
       "\n",
       "    .dataframe thead th {\n",
       "        text-align: right;\n",
       "    }\n",
       "</style>\n",
       "<table border=\"1\" class=\"dataframe\">\n",
       "  <thead>\n",
       "    <tr style=\"text-align: right;\">\n",
       "      <th></th>\n",
       "      <th>patient_id</th>\n",
       "      <th>age</th>\n",
       "      <th>sex</th>\n",
       "      <th>ehr_date</th>\n",
       "      <th>text</th>\n",
       "      <th>text_type</th>\n",
       "      <th>hipotese_diagnostica</th>\n",
       "    </tr>\n",
       "  </thead>\n",
       "  <tbody>\n",
       "    <tr>\n",
       "      <th>0</th>\n",
       "      <td>341196</td>\n",
       "      <td>82.0</td>\n",
       "      <td>M</td>\n",
       "      <td>2023-09-05 10:23:37</td>\n",
       "      <td>&lt;html tasy=\"html5\"&gt;&lt;body&gt;&lt;p style=\"text-align:...</td>\n",
       "      <td>text/html</td>\n",
       "      <td>hernia inguinal</td>\n",
       "    </tr>\n",
       "    <tr>\n",
       "      <th>1</th>\n",
       "      <td>4309949</td>\n",
       "      <td>32.0</td>\n",
       "      <td>F</td>\n",
       "      <td>2023-11-01 12:10:59</td>\n",
       "      <td>&lt;html tasy=\"html5\"&gt;&lt;body&gt;&lt;p style=\"text-align:...</td>\n",
       "      <td>text/html</td>\n",
       "      <td>None</td>\n",
       "    </tr>\n",
       "    <tr>\n",
       "      <th>2</th>\n",
       "      <td>404932</td>\n",
       "      <td>91.0</td>\n",
       "      <td>M</td>\n",
       "      <td>2023-09-16 07:24:02</td>\n",
       "      <td>{\\rtf1\\ansi\\ansicpg1252{\\fonttbl{\\f0\\fnil\\fcha...</td>\n",
       "      <td>text/rtf</td>\n",
       "      <td>None</td>\n",
       "    </tr>\n",
       "    <tr>\n",
       "      <th>3</th>\n",
       "      <td>5603035</td>\n",
       "      <td>53.0</td>\n",
       "      <td>F</td>\n",
       "      <td>2024-08-03 06:56:48</td>\n",
       "      <td>RET 6 MESES PARA AVALIAÇÃO CALCIO + VIT D</td>\n",
       "      <td>text/plain</td>\n",
       "      <td>None</td>\n",
       "    </tr>\n",
       "    <tr>\n",
       "      <th>4</th>\n",
       "      <td>154876</td>\n",
       "      <td>27.0</td>\n",
       "      <td>M</td>\n",
       "      <td>2023-11-05 04:58:01</td>\n",
       "      <td>{\\rtf1\\ansi\\ansicpg1252{\\fonttbl{\\f0\\fnil\\fcha...</td>\n",
       "      <td>text/rtf</td>\n",
       "      <td>None</td>\n",
       "    </tr>\n",
       "  </tbody>\n",
       "</table>\n",
       "</div>"
      ],
      "text/plain": [
       "   patient_id   age sex             ehr_date  \\\n",
       "0      341196  82.0   M  2023-09-05 10:23:37   \n",
       "1     4309949  32.0   F  2023-11-01 12:10:59   \n",
       "2      404932  91.0   M  2023-09-16 07:24:02   \n",
       "3     5603035  53.0   F  2024-08-03 06:56:48   \n",
       "4      154876  27.0   M  2023-11-05 04:58:01   \n",
       "\n",
       "                                                text   text_type  \\\n",
       "0  <html tasy=\"html5\"><body><p style=\"text-align:...   text/html   \n",
       "1  <html tasy=\"html5\"><body><p style=\"text-align:...   text/html   \n",
       "2  {\\rtf1\\ansi\\ansicpg1252{\\fonttbl{\\f0\\fnil\\fcha...    text/rtf   \n",
       "3          RET 6 MESES PARA AVALIAÇÃO CALCIO + VIT D  text/plain   \n",
       "4  {\\rtf1\\ansi\\ansicpg1252{\\fonttbl{\\f0\\fnil\\fcha...    text/rtf   \n",
       "\n",
       "  hipotese_diagnostica  \n",
       "0      hernia inguinal  \n",
       "1                 None  \n",
       "2                 None  \n",
       "3                 None  \n",
       "4                 None  "
      ]
     },
     "execution_count": 7,
     "metadata": {},
     "output_type": "execute_result"
    }
   ],
   "source": [
    "df_doc['hipotese_diagnostica'] = df_doc['text'].apply(lambda x: extrair_hipotese_diagnostica(x))\n",
    "# Lower case para padronizar o texto\n",
    "df_doc['hipotese_diagnostica'] = df_doc['hipotese_diagnostica'].str.lower()\n",
    "df_doc.head()"
   ]
  },
  {
   "cell_type": "code",
   "execution_count": 8,
   "metadata": {},
   "outputs": [
    {
     "name": "stdout",
     "output_type": "stream",
     "text": [
      "Total de hipóteses diagnósticas extraídas:  1103\n",
      "Total de hipóteses diagnósticas distintas extraídas:  753\n"
     ]
    }
   ],
   "source": [
    "# Calcula o número total de hipóteses diagnósticas extraídas\n",
    "total_hipoteses = df_doc['hipotese_diagnostica'].count()\n",
    "\n",
    "# Calcula o número de hipóteses distintas extraídas|\n",
    "hipoteses_distintas = df_doc['hipotese_diagnostica'].unique().shape[0]\n",
    "\n",
    "print(\"Total de hipóteses diagnósticas extraídas: \", total_hipoteses)\n",
    "\n",
    "print(\"Total de hipóteses diagnósticas distintas extraídas: \", hipoteses_distintas)"
   ]
  },
  {
   "cell_type": "code",
   "execution_count": 9,
   "metadata": {},
   "outputs": [
    {
     "data": {
      "text/plain": [
       "hipotese_diagnostica\n",
       "                                                 45\n",
       "conduta:                                         40\n",
       "rotina                                           18\n",
       "ivas                                             16\n",
       "has                                              14\n",
       "r10                                              12\n",
       "geca                                             12\n",
       "z10                                              11\n",
       "r51                                               9\n",
       "amigdalite                                        9\n",
       "itu                                               8\n",
       "gastroenterite                                    6\n",
       "dispepsia                                         6\n",
       "sinusite                                          6\n",
       "dor abdominal                                     5\n",
       "lombalgia                                         5\n",
       "z370 - nascimento unico, nativivo [nado-vivo]     5\n",
       "enxaqueca                                         5\n",
       "dorsalgia                                         5\n",
       "amigdalite aguda                                  4\n",
       "Name: count, dtype: int64"
      ]
     },
     "execution_count": 9,
     "metadata": {},
     "output_type": "execute_result"
    }
   ],
   "source": [
    "df_doc['hipotese_diagnostica'].dropna().value_counts().head(20)"
   ]
  },
  {
   "cell_type": "markdown",
   "metadata": {},
   "source": [
    "Ao analisar as 20 hipóteses diagnósticas mais frequentes, é possível identificar alguns erros de extração, como a presença de um campo vazio na primeira posição e a ocorrência do termo \"conduta:\". Além disso, observa-se que \"rotina\" aparece como uma hipótese diagnóstica, o que não é apropriado. Portanto, a melhor abordagem para lidar com esses casos é remover as linhas que contêm essas classificações."
   ]
  },
  {
   "cell_type": "code",
   "execution_count": 10,
   "metadata": {},
   "outputs": [
    {
     "data": {
      "text/plain": [
       "0       False\n",
       "1        True\n",
       "2        True\n",
       "3        True\n",
       "4        True\n",
       "        ...  \n",
       "6829     True\n",
       "6830     True\n",
       "6831     True\n",
       "6832     True\n",
       "6833     True\n",
       "Name: hipotese_diagnostica, Length: 6834, dtype: bool"
      ]
     },
     "execution_count": 10,
     "metadata": {},
     "output_type": "execute_result"
    }
   ],
   "source": [
    "df_doc['hipotese_diagnostica'].str.contains('conduta').isna()"
   ]
  },
  {
   "cell_type": "code",
   "execution_count": 11,
   "metadata": {},
   "outputs": [
    {
     "name": "stdout",
     "output_type": "stream",
     "text": [
      "Total de hipóteses diagnósticas extraídas:  1058\n",
      "Total de hipóteses diagnósticas distintas extraídas:  751\n"
     ]
    },
    {
     "data": {
      "text/plain": [
       "hipotese_diagnostica\n",
       "conduta:                                         40\n",
       "rotina                                           18\n",
       "ivas                                             16\n",
       "has                                              14\n",
       "r10                                              12\n",
       "geca                                             12\n",
       "z10                                              11\n",
       "r51                                               9\n",
       "amigdalite                                        9\n",
       "itu                                               8\n",
       "gastroenterite                                    6\n",
       "dispepsia                                         6\n",
       "sinusite                                          6\n",
       "dor abdominal                                     5\n",
       "dorsalgia                                         5\n",
       "z370 - nascimento unico, nativivo [nado-vivo]     5\n",
       "enxaqueca                                         5\n",
       "lombalgia                                         5\n",
       "amigdalite aguda                                  4\n",
       "m54                                               4\n",
       "Name: count, dtype: int64"
      ]
     },
     "metadata": {},
     "output_type": "display_data"
    }
   ],
   "source": [
    "# Remove linhas com hipose_diagnostica nula, contém \"conduta\" e \"rotina\"\n",
    "df_doc = df_doc[~(df_doc['hipotese_diagnostica'] == '')]\n",
    "df_doc = df_doc[~df_doc['hipotese_diagnostica'].str.contains('conduta').isna()]\n",
    "df_doc = df_doc[~df_doc['hipotese_diagnostica'].str.contains('rotina').isna()]\n",
    "\n",
    "# Calcula o número total de hipóteses diagnósticas extraídas\n",
    "total_hipoteses = df_doc['hipotese_diagnostica'].count()\n",
    "\n",
    "# Calcula o número de hipóteses distintas extraídas|\n",
    "hipoteses_distintas = df_doc['hipotese_diagnostica'].unique().shape[0]\n",
    "\n",
    "print(\"Total de hipóteses diagnósticas extraídas: \", total_hipoteses)\n",
    "\n",
    "print(\"Total de hipóteses diagnósticas distintas extraídas: \", hipoteses_distintas)\n",
    "\n",
    "display(df_doc['hipotese_diagnostica'].dropna().value_counts().head(20))"
   ]
  },
  {
   "cell_type": "markdown",
   "metadata": {},
   "source": [
    "Com base na tabela acima, conclui-se que os diagnósticos mais comuns nos documentos analisados são **IVAS** e **HAS**, siglas que correspondem a \"Infecções Agudas das Vias Aéreas Superiores\" e \"Hipertensão Arterial Sistêmica\".\n"
   ]
  },
  {
   "cell_type": "markdown",
   "metadata": {},
   "source": [
    "# Etapa 2\n",
    "- Como você extrairia informações de medicamentos, exames e doenças do paciente? Analise os dados que tem em mãos e descreva o pipeline de desenvolvimento para um modelo como esses, levando em consideração todo o processo de análise, anotação, treino até a validação do modelo. "
   ]
  },
  {
   "cell_type": "markdown",
   "metadata": {},
   "source": [
    "A etapa anterior abordou a extração de hipóteses diagnósticas. Nesta etapa, o foco será preparar o conjunto de dados no formato necessário para treinar um modelo no spaCy. Além disso, o conjunto de dados será dividido em três partes: treino, validação e teste, garantindo uma estrutura adequada para a avaliação do modelo.\n",
    "\n",
    "O primeiro passo para prepara o conjunto de dados é extrair o texto do formato html de modo a convertê-lo em plain text"
   ]
  },
  {
   "cell_type": "code",
   "execution_count": 12,
   "metadata": {},
   "outputs": [
    {
     "data": {
      "text/html": [
       "<div>\n",
       "<style scoped>\n",
       "    .dataframe tbody tr th:only-of-type {\n",
       "        vertical-align: middle;\n",
       "    }\n",
       "\n",
       "    .dataframe tbody tr th {\n",
       "        vertical-align: top;\n",
       "    }\n",
       "\n",
       "    .dataframe thead th {\n",
       "        text-align: right;\n",
       "    }\n",
       "</style>\n",
       "<table border=\"1\" class=\"dataframe\">\n",
       "  <thead>\n",
       "    <tr style=\"text-align: right;\">\n",
       "      <th></th>\n",
       "      <th>processed_text</th>\n",
       "      <th>text</th>\n",
       "    </tr>\n",
       "  </thead>\n",
       "  <tbody>\n",
       "    <tr>\n",
       "      <th>0</th>\n",
       "      <td>anamnese - centro clínico   queixa principal:...</td>\n",
       "      <td>&lt;html tasy=\"html5\"&gt;&lt;body&gt;&lt;p style=\"text-align:...</td>\n",
       "    </tr>\n",
       "    <tr>\n",
       "      <th>6</th>\n",
       "      <td>anamnese - centro clínico   queixa principal:...</td>\n",
       "      <td>&lt;html tasy=\"html5\"&gt;&lt;body&gt;&lt;p style=\"text-align:...</td>\n",
       "    </tr>\n",
       "    <tr>\n",
       "      <th>7</th>\n",
       "      <td>anamnese/exame físico - ps anamnese:   queixa...</td>\n",
       "      <td>&lt;html tasy=\"html5\"&gt;&lt;body&gt;&lt;p style=\"text-align:...</td>\n",
       "    </tr>\n",
       "    <tr>\n",
       "      <th>10</th>\n",
       "      <td>evolução de enfermagem   6 o dih    hipótes...</td>\n",
       "      <td>&lt;html tasy=\"html5\"&gt;&lt;body&gt;&lt;p style=\"text-align:...</td>\n",
       "    </tr>\n",
       "    <tr>\n",
       "      <th>15</th>\n",
       "      <td>anamnese/exame físico - ps  queixa principal:...</td>\n",
       "      <td>&lt;html tasy=\"html5\"&gt;&lt;body&gt;&lt;p&gt;&lt;span style=\"\"&gt;&lt;sp...</td>\n",
       "    </tr>\n",
       "  </tbody>\n",
       "</table>\n",
       "</div>"
      ],
      "text/plain": [
       "                                       processed_text  \\\n",
       "0   anamnese - centro clínico   queixa principal:...   \n",
       "6   anamnese - centro clínico   queixa principal:...   \n",
       "7   anamnese/exame físico - ps anamnese:   queixa...   \n",
       "10  evolução de enfermagem   6 o dih    hipótes...   \n",
       "15  anamnese/exame físico - ps  queixa principal:...   \n",
       "\n",
       "                                                 text  \n",
       "0   <html tasy=\"html5\"><body><p style=\"text-align:...  \n",
       "6   <html tasy=\"html5\"><body><p style=\"text-align:...  \n",
       "7   <html tasy=\"html5\"><body><p style=\"text-align:...  \n",
       "10  <html tasy=\"html5\"><body><p style=\"text-align:...  \n",
       "15  <html tasy=\"html5\"><body><p><span style=\"\"><sp...  "
      ]
     },
     "execution_count": 12,
     "metadata": {},
     "output_type": "execute_result"
    }
   ],
   "source": [
    "# Função que limpa todo o html e deixa apenas o plain text\n",
    "def clean_html(text):\n",
    "    soup = BeautifulSoup(text, 'html.parser')\n",
    "    text = soup.get_text(separator = \" \")\n",
    "    #text = re.sub(r'\\u200b', ' ', text)\n",
    "    return text\n",
    "\n",
    "def clean_special_characters(texto):\n",
    "    # Normaliza o texto para remover caracteres compostos\n",
    "    texto_normalizado = unicodedata.normalize('NFKD', texto)\n",
    "    # Remove caracteres de controle e espaços invisíveis\n",
    "    texto_limpo = ''.join(c for c in texto_normalizado if c.isprintable())\n",
    "    return texto_limpo.strip()\n",
    "\n",
    "def map_clean_text_type(row):\n",
    "    if row['text_type'] == 'text/html':\n",
    "        clean_text = clean_html(row['text'])\n",
    "        clean_text = clean_special_characters(clean_text)\n",
    "        return clean_text.lower()\n",
    "    else:\n",
    "        return row['text'].lower()\n",
    "    \n",
    "df_doc_filtered = df_doc.loc[df_doc['text_type'] == 'text/html']\n",
    "df_doc_filtered['processed_text'] = df_doc_filtered.apply(map_clean_text_type, axis=1)\n",
    "# Converte o texto de html para plain text\n",
    "df_doc_filtered[['processed_text', 'text']].head()\n"
   ]
  },
  {
   "cell_type": "code",
   "execution_count": null,
   "metadata": {},
   "outputs": [],
   "source": []
  },
  {
   "cell_type": "code",
   "execution_count": 13,
   "metadata": {},
   "outputs": [],
   "source": [
    "# Função para transformar o DataFrame em um formato SpaCy treinável\n",
    "def create_training_data(df):\n",
    "    training_data = []\n",
    "    for text, entity in zip(df[\"processed_text\"], df[\"hipotese_diagnostica\"]):\n",
    "        start = text.find(entity)\n",
    "        if start != -1:  # Certifica de que a entidade existe no texto\n",
    "            end = start + len(entity)\n",
    "            training_data.append((text, {\"entities\": [(start, end, \"HIPOTESE_DIAGNOSTICA\")]}))\n",
    "    return training_data\n"
   ]
  },
  {
   "cell_type": "code",
   "execution_count": 14,
   "metadata": {},
   "outputs": [],
   "source": [
    "# Criar os dados de treinamento no formato SpaCy\n",
    "training_data = create_training_data(df_doc_filtered)\n",
    "\n",
    "# Separa em treino, teste e validação\n",
    "random.shuffle(training_data)\n",
    "train_data = training_data[:int(len(training_data) * 0.8)]\n",
    "valid_data = training_data[int(len(training_data) * 0.8):int(len(training_data) * 0.9)]\n",
    "test_data = training_data[int(len(training_data) * 0.9):]\n",
    "\n",
    "\n",
    "\n"
   ]
  },
  {
   "cell_type": "code",
   "execution_count": 15,
   "metadata": {},
   "outputs": [
    {
     "name": "stdout",
     "output_type": "stream",
     "text": [
      "Dados de treinamento salvos em train_data.spacy\n",
      "Dados de treinamento salvos em val_data.spacy\n",
      "Dados de treinamento salvos em test_data.spacy\n"
     ]
    }
   ],
   "source": [
    "# Função para salvar os dados em formato binário do SpaCy\n",
    "def save_training_data(training_data, output_path=\"training_data.spacy\"):\n",
    "    nlp = spacy.blank(\"pt\")  # Usando modelo base em português\n",
    "    db = DocBin()  # Objeto para armazenar dados\n",
    "    for text, annotations in training_data:\n",
    "        doc = nlp.make_doc(text)\n",
    "        ents = []\n",
    "        for start, end, label in annotations[\"entities\"]:\n",
    "            span = doc.char_span(start, end, label=label)\n",
    "            if span is not None:\n",
    "                ents.append(span)\n",
    "        doc.ents = ents  # Adiciona as entidades no Doc\n",
    "        db.add(doc)\n",
    "    db.to_disk(output_path)\n",
    "    print(f\"Dados de treinamento salvos em {output_path}\")\n",
    "\n",
    "# Salvar os conjuntos de treino, validação e teste\n",
    "save_training_data(train_data, \"train_data.spacy\")\n",
    "save_training_data(valid_data, \"val_data.spacy\")\n",
    "save_training_data(test_data, \"test_data.spacy\")\n"
   ]
  },
  {
   "cell_type": "code",
   "execution_count": 24,
   "metadata": {},
   "outputs": [
    {
     "name": "stdout",
     "output_type": "stream",
     "text": [
      "\u001b[38;5;4mℹ Saving to output directory: output\u001b[0m\n",
      "\u001b[38;5;4mℹ Using CPU\u001b[0m\n",
      "\u001b[1m\n",
      "=========================== Initializing pipeline ===========================\u001b[0m\n",
      "[2025-01-18 18:52:50,015] [WARNING] [W112] The model specified to use for initial vectors (pt_core_news_sm) has no vectors. This is almost certainly a mistake.\n",
      "\u001b[38;5;2m✔ Initialized pipeline\u001b[0m\n",
      "\u001b[1m\n",
      "============================= Training pipeline =============================\u001b[0m\n",
      "\u001b[38;5;4mℹ Pipeline: ['tok2vec', 'ner']\u001b[0m\n",
      "\u001b[38;5;4mℹ Initial learn rate: 0.0005\u001b[0m\n",
      "E    #       LOSS TOK2VEC  LOSS NER  ENTS_F  ENTS_P  ENTS_R  SCORE \n",
      "---  ------  ------------  --------  ------  ------  ------  ------\n",
      "  0       0          0.00     31.33    0.00    0.00    0.00    0.00\n",
      "  0      50          1.01   1343.37    0.00    0.00    0.00    0.00\n",
      "  0     100          0.52     69.43   49.68   51.32   48.15    0.50\n",
      "  0     150          0.95     56.29   50.93   51.25   50.62    0.51\n",
      "  0     200          3.36     93.15   61.54   59.09   64.20    0.62\n",
      "  0     250          1.46     61.41   56.47   53.93   59.26    0.56\n",
      "  0     300          1.69     55.86   47.62   66.67   37.04    0.48\n",
      "  0     350          1.79     45.31   69.82   67.05   72.84    0.70\n",
      "  0     400          3.30     50.31   83.33   80.46   86.42    0.83\n",
      "  0     450          2.94     36.54   85.71   82.76   88.89    0.86\n",
      "  0     500          2.52     24.12   84.02   80.68   87.65    0.84\n",
      "  0     550          4.89     34.94   77.84   75.58   80.25    0.78\n",
      "  0     600          5.72     42.41   78.21   81.33   75.31    0.78\n",
      "  0     650          7.20     49.06   75.58   71.43   80.25    0.76\n",
      "  1     700          5.49     38.80   85.21   81.82   88.89    0.85\n",
      "  1     750          4.79     25.92   83.53   79.78   87.65    0.84\n",
      "  1     800          5.64     30.33   83.44   82.93   83.95    0.83\n",
      "  1     850          5.48     25.09   81.71   80.72   82.72    0.82\n",
      "  1     900         11.21     52.73   81.44   79.07   83.95    0.81\n",
      "  1     950          8.44     38.85   85.54   83.53   87.65    0.86\n",
      "  1    1000          3.38     14.95   84.52   81.61   87.65    0.85\n",
      "  1    1050         14.42     50.01   82.89   88.73   77.78    0.83\n",
      "  1    1100          8.88     35.46   87.27   85.71   88.89    0.87\n",
      "  1    1150          9.54     38.70   86.59   85.54   87.65    0.87\n",
      "  1    1200          9.82     26.01   81.82   86.30   77.78    0.82\n",
      "  1    1250          9.72     31.48   86.39   82.95   90.12    0.86\n",
      "  1    1300         13.59     41.32   82.93   81.93   83.95    0.83\n",
      "  1    1350         11.08     42.92   85.19   85.19   85.19    0.85\n",
      "  2    1400         12.50     39.31   86.90   83.91   90.12    0.87\n",
      "  2    1450         12.44     31.85   87.80   86.75   88.89    0.88\n",
      "  2    1500          8.05     23.99   80.54   88.24   74.07    0.81\n",
      "  2    1550         12.89     37.19   87.50   88.61   86.42    0.87\n",
      "  2    1600          8.51     23.38   86.90   83.91   90.12    0.87\n",
      "  2    1650          9.53     22.80   85.54   83.53   87.65    0.86\n",
      "  2    1700         13.53     39.00   84.71   80.90   88.89    0.85\n",
      "  2    1750         11.50     37.58   86.39   82.95   90.12    0.86\n",
      "  2    1800         12.26     43.94   80.00   81.01   79.01    0.80\n",
      "  2    1850         11.45     34.04   80.75   81.25   80.25    0.81\n",
      "  2    1900         10.30     27.51   85.71   86.25   85.19    0.86\n",
      "  2    1950          6.75     23.36   83.95   83.95   83.95    0.84\n",
      "  2    2000          6.37     16.17   86.05   81.32   91.36    0.86\n",
      "  3    2050         11.02     24.30   81.82   86.30   77.78    0.82\n",
      "  3    2100          9.92     26.11   84.15   83.13   85.19    0.84\n",
      "  3    2150         16.06     32.58   81.29   85.14   77.78    0.81\n",
      "  3    2200          7.99     20.78   86.59   85.54   87.65    0.87\n",
      "  3    2250         15.81     37.17   85.19   85.19   85.19    0.85\n",
      "  3    2300         15.45     45.03   78.43   83.33   74.07    0.78\n",
      "  3    2350       1566.44     44.31   80.45   73.47   88.89    0.80\n",
      "  3    2400         11.82     35.67   86.23   83.72   88.89    0.86\n",
      "  3    2450          8.49     21.65   83.54   85.71   81.48    0.84\n",
      "\u001b[38;5;2m✔ Saved pipeline to output directory\u001b[0m\n",
      "output/model-last\n"
     ]
    }
   ],
   "source": [
    "!python -m spacy train config.cfg --output ./output --paths.train ./train_data.spacy --paths.dev ./val_data.spacy "
   ]
  },
  {
   "cell_type": "code",
   "execution_count": 17,
   "metadata": {},
   "outputs": [
    {
     "name": "stderr",
     "output_type": "stream",
     "text": [
      "/home/ubuntu/Installations/anaconda3/envs/spacy/lib/python3.12/site-packages/spacy/util.py:910: UserWarning: [W095] Model 'pt_pipeline' (0.0.0) was trained with spaCy v3.7.5 and may not be 100% compatible with the current version (3.8.2). If you see errors or degraded performance, download a newer compatible model or retrain your custom model with the current spaCy version. For more details and available updates, run: python -m spacy validate\n",
      "  warnings.warn(warn_msg)\n"
     ]
    }
   ],
   "source": [
    "# Carrega o modelo treinado\n",
    "nlp = spacy.load(\"./output/model-best\")"
   ]
  },
  {
   "cell_type": "code",
   "execution_count": 18,
   "metadata": {},
   "outputs": [],
   "source": [
    "# Faz a predição em um texto\n",
    "doc = nlp(test_data[4][0])\n",
    "\n",
    "# Exibe as entidades preditas\n",
    "for ent in doc.ents:\n",
    "    print(ent.text, ent.label_)"
   ]
  },
  {
   "cell_type": "code",
   "execution_count": 19,
   "metadata": {},
   "outputs": [
    {
     "name": "stdout",
     "output_type": "stream",
     "text": [
      "dm2\n",
      "anamnese - centro clínico   queixa principal: dor inguinoescrotal esq a/e   alergias: nega alergia à medicamentos   hda:    hpp:    sinais vitais pa:    x     fc:      fr:       t:        dor:       exame físico:   hipótese diagnóstica:hernia inguinal   conduta:exames\n"
     ]
    }
   ],
   "source": [
    "# PRINTA O EXEMPLO DE HIPOTESE DIAGNOSTICA\n",
    "print(df_doc_filtered['hipotese_diagnostica'].iloc[1])\n",
    "print(df_doc_filtered['processed_text'].iloc[0])"
   ]
  },
  {
   "cell_type": "code",
   "execution_count": 20,
   "metadata": {},
   "outputs": [
    {
     "data": {
      "text/plain": [
       "'anamnese de admissão ps adulto   queixa principal :    hda: paciente refere dor em baixo ventre com irradiação para flanco esquerdo há 1 dia. associado a nauseas. nega febre, vomitos, constipação, disuria e outros sintomas.  dum : 25/01/2024  hpp: teratoma em ovario esquerdo  medicações de uso regular : alergias:  nega    sinais vitais: pa:   x   fc:   fr:    sato2:    dor:   temperatura:   exame físico : beg, aaa, lote, eupneica, normocorada, hidratada abd: plano, flacido , dor a palpação em hipogastrio , fossa iliaca direita e flanco direito , sem sinais de irritação peritoneal, db -  ext: sem edemas  hipótese diagnóstica : conduta:   - prescrevo medicação - solicito exames'"
      ]
     },
     "execution_count": 20,
     "metadata": {},
     "output_type": "execute_result"
    }
   ],
   "source": [
    "test_data[0][0]"
   ]
  },
  {
   "cell_type": "code",
   "execution_count": 21,
   "metadata": {},
   "outputs": [],
   "source": [
    "# Printa um exemplo do conjunto de teste"
   ]
  },
  {
   "cell_type": "code",
   "execution_count": null,
   "metadata": {},
   "outputs": [],
   "source": []
  }
 ],
 "metadata": {
  "kernelspec": {
   "display_name": "spacy",
   "language": "python",
   "name": "python3"
  },
  "language_info": {
   "codemirror_mode": {
    "name": "ipython",
    "version": 3
   },
   "file_extension": ".py",
   "mimetype": "text/x-python",
   "name": "python",
   "nbconvert_exporter": "python",
   "pygments_lexer": "ipython3",
   "version": "3.12.8"
  }
 },
 "nbformat": 4,
 "nbformat_minor": 2
}
