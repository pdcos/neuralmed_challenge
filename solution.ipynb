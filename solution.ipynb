{
 "cells": [
  {
   "cell_type": "markdown",
   "metadata": {},
   "source": [
    "# Desafio de NLP - NeuralMed\n",
    "- **CANDIDATO:** Pedro Luís Azevedo Costa"
   ]
  },
  {
   "cell_type": "markdown",
   "metadata": {},
   "source": [
    "# Importações"
   ]
  },
  {
   "cell_type": "code",
   "execution_count": 43,
   "metadata": {},
   "outputs": [],
   "source": [
    "import pandas as pd\n",
    "import magic\n",
    "import unicodedata\n",
    "from bs4 import BeautifulSoup\n",
    "from striprtf.striprtf import rtf_to_text\n",
    "import re\n",
    "\n",
    "from IPython.display import HTML, display\n",
    "\n",
    "import spacy\n",
    "from spacy.tokens import DocBin\n",
    "from spacy.training.example import Example\n",
    "import random\n",
    "\n",
    "from spacy.training.example import Example\n",
    "from sklearn.metrics import precision_score, recall_score, f1_score\n",
    "\n",
    "\n"
   ]
  },
  {
   "cell_type": "markdown",
   "metadata": {},
   "source": [
    "# Etapa 1 \n",
    "- Faça uma análise descritiva em cima dos documentos. O que você conclui apenas olhando para eles? Qual a forma de escrita dos documentos? Há tipos diferentes? Olhando os textos consegue identificar alguma alteração comum entre os pacientes? "
   ]
  },
  {
   "cell_type": "markdown",
   "metadata": {},
   "source": [
    "## Carregando o dataset"
   ]
  },
  {
   "cell_type": "code",
   "execution_count": 44,
   "metadata": {},
   "outputs": [
    {
     "data": {
      "text/html": [
       "<div>\n",
       "<style scoped>\n",
       "    .dataframe tbody tr th:only-of-type {\n",
       "        vertical-align: middle;\n",
       "    }\n",
       "\n",
       "    .dataframe tbody tr th {\n",
       "        vertical-align: top;\n",
       "    }\n",
       "\n",
       "    .dataframe thead th {\n",
       "        text-align: right;\n",
       "    }\n",
       "</style>\n",
       "<table border=\"1\" class=\"dataframe\">\n",
       "  <thead>\n",
       "    <tr style=\"text-align: right;\">\n",
       "      <th></th>\n",
       "      <th>patient_id</th>\n",
       "      <th>age</th>\n",
       "      <th>sex</th>\n",
       "      <th>ehr_date</th>\n",
       "      <th>text</th>\n",
       "    </tr>\n",
       "  </thead>\n",
       "  <tbody>\n",
       "    <tr>\n",
       "      <th>0</th>\n",
       "      <td>341196</td>\n",
       "      <td>82.0</td>\n",
       "      <td>M</td>\n",
       "      <td>2023-09-05 10:23:37</td>\n",
       "      <td>&lt;html tasy=\"html5\"&gt;&lt;body&gt;&lt;p style=\"text-align:...</td>\n",
       "    </tr>\n",
       "    <tr>\n",
       "      <th>1</th>\n",
       "      <td>4309949</td>\n",
       "      <td>32.0</td>\n",
       "      <td>F</td>\n",
       "      <td>2023-11-01 12:10:59</td>\n",
       "      <td>&lt;html tasy=\"html5\"&gt;&lt;body&gt;&lt;p style=\"text-align:...</td>\n",
       "    </tr>\n",
       "    <tr>\n",
       "      <th>2</th>\n",
       "      <td>404932</td>\n",
       "      <td>91.0</td>\n",
       "      <td>M</td>\n",
       "      <td>2023-09-16 07:24:02</td>\n",
       "      <td>{\\rtf1\\ansi\\ansicpg1252{\\fonttbl{\\f0\\fnil\\fcha...</td>\n",
       "    </tr>\n",
       "    <tr>\n",
       "      <th>3</th>\n",
       "      <td>5603035</td>\n",
       "      <td>53.0</td>\n",
       "      <td>F</td>\n",
       "      <td>2024-08-03 06:56:48</td>\n",
       "      <td>RET 6 MESES PARA AVALIAÇÃO CALCIO + VIT D</td>\n",
       "    </tr>\n",
       "    <tr>\n",
       "      <th>4</th>\n",
       "      <td>154876</td>\n",
       "      <td>27.0</td>\n",
       "      <td>M</td>\n",
       "      <td>2023-11-05 04:58:01</td>\n",
       "      <td>{\\rtf1\\ansi\\ansicpg1252{\\fonttbl{\\f0\\fnil\\fcha...</td>\n",
       "    </tr>\n",
       "  </tbody>\n",
       "</table>\n",
       "</div>"
      ],
      "text/plain": [
       "   patient_id   age sex             ehr_date  \\\n",
       "0      341196  82.0   M  2023-09-05 10:23:37   \n",
       "1     4309949  32.0   F  2023-11-01 12:10:59   \n",
       "2      404932  91.0   M  2023-09-16 07:24:02   \n",
       "3     5603035  53.0   F  2024-08-03 06:56:48   \n",
       "4      154876  27.0   M  2023-11-05 04:58:01   \n",
       "\n",
       "                                                text  \n",
       "0  <html tasy=\"html5\"><body><p style=\"text-align:...  \n",
       "1  <html tasy=\"html5\"><body><p style=\"text-align:...  \n",
       "2  {\\rtf1\\ansi\\ansicpg1252{\\fonttbl{\\f0\\fnil\\fcha...  \n",
       "3          RET 6 MESES PARA AVALIAÇÃO CALCIO + VIT D  \n",
       "4  {\\rtf1\\ansi\\ansicpg1252{\\fonttbl{\\f0\\fnil\\fcha...  "
      ]
     },
     "execution_count": 44,
     "metadata": {},
     "output_type": "execute_result"
    }
   ],
   "source": [
    "file_path = \"sample_teste_nlp.csv\"\n",
    "df_doc = pd.read_csv(file_path)\n",
    "df_doc.head()"
   ]
  },
  {
   "cell_type": "markdown",
   "metadata": {},
   "source": [
    "## Análise Exploratória  \n",
    "\n",
    "O dataset contém 5 colunas:  \n",
    "- `patient_id`: numérica  \n",
    "- `age`: numérica  \n",
    "- `sex`: categórica  \n",
    "- `ehr_date`: datetime  \n",
    "- `text`: textual  \n",
    "\n",
    "Conforme mencionado no enunciado, o foco deste exercício está na coluna `text`, que contém os documentos a serem analisados. Ao observar as primeiras 5 linhas do dataset, é possível identificar três tipos diferentes de formatação de texto: **plain text**, **HTML** e **RTF**.  \n",
    "\n",
    "Assim, o primeiro passo desta análise preliminar é descobrir todos os tipos possíveis de formatação.  \n"
   ]
  },
  {
   "cell_type": "code",
   "execution_count": 45,
   "metadata": {},
   "outputs": [
    {
     "name": "stdout",
     "output_type": "stream",
     "text": [
      "Tipos de texto encontrados:  ['text/html' 'text/rtf' 'text/plain']\n",
      "Quantidade de textos por tipo:  text_type\n",
      "text/html     4253\n",
      "text/rtf      1852\n",
      "text/plain     729\n",
      "Name: count, dtype: int64\n"
     ]
    }
   ],
   "source": [
    "def detect_mime_type(text):\n",
    "    \"\"\"\n",
    "    Detecta a formatação do texto\n",
    "    \"\"\"\n",
    "    mime = magic.Magic(mime=True)\n",
    "    return mime.from_buffer(text.encode('utf-8'))\n",
    "\n",
    "# Aplica a função detect_mime_type na coluna 'text' do dataframe\n",
    "df_doc['text_type'] = df_doc['text'].apply(lambda x: detect_mime_type(x))\n",
    "\n",
    "tipos_texto = df_doc['text_type'].unique()\n",
    "\n",
    "print(\"Tipos de texto encontrados: \", tipos_texto)\n",
    "\n",
    "# Quantidade de textos por tipo\n",
    "count_text_type = df_doc['text_type'].value_counts()\n",
    "\n",
    "print(\"Quantidade de textos por tipo: \", count_text_type)\n"
   ]
  },
  {
   "cell_type": "markdown",
   "metadata": {},
   "source": [
    "Conforme mostrado na célula acima, identificamos três tipos de texto, com predominância de **HTML**, que será o foco da análise.  \n",
    "\n",
    "Embora o ideal fosse realizar uma avaliação cuidadosa de cada tipo de texto, devido às restrições de tempo e recursos, concentraremos nossos esforços no formato **HTML**. Esse formato foi escolhido por sua maior predominância e pela estrutura mais simples de navegar em comparação aos demais.  \n"
   ]
  },
  {
   "cell_type": "markdown",
   "metadata": {},
   "source": [
    "## Visualizando Exemplos"
   ]
  },
  {
   "cell_type": "code",
   "execution_count": 46,
   "metadata": {},
   "outputs": [
    {
     "data": {
      "text/html": [
       "<html tasy=\"html5\"><body><p style=\"text-align:left;\"><span style=\"font-style: normal; font-variant: normal; font-stretch: normal; font-size: 11pt; font-family: Arial; color: rgb(0, 0, 0); background-color: rgb(255, 255, 255);\">                                                         <strong>  ANAMNESE - CENTRO CLÍNICO</strong></span></p><p style=\"text-align:left;\"> </p><p style=\"text-align:left;\"><span style=\"\">Queixa Principal: DOR INGUINOESCROTAL ESQ A/E</span></p><p style=\"text-align:left;\"> </p><p style=\"text-align:left;\">Alergias: Nega Alergia à Medicamentos</p><p style=\"text-align:left;\"> </p><p style=\"text-align:left;\"><span style=\"\">HDA: </span></p><p style=\"text-align:left;\"> </p><p style=\"text-align:left;\"><span style=\"\">HPP: </span></p><p style=\"text-align:left;\"> </p><p style=\"text-align:left;\"><span style=\"\"><span style=\"\">Sinais Vitais</span></span></p><p style=\"text-align: justify;\"><span style=\"font-size:14px;\"><strong>PA: </strong>  X    <strong>FC: </strong>   <strong>FR:</strong>     <strong>T:</strong>   <strong>   Dor:</strong>   </span></p><p style=\"text-align: justify;\"> </p><p style=\"text-align: justify;\">Exame Físico:</p><p style=\"text-align: justify;\"> </p><p style=\"text-align: justify;\">Hipótese Diagnóstica:HERNIA INGUINAL</p><p style=\"text-align: justify;\"> </p><p style=\"text-align: justify;\">Conduta:EXAMES </p><p style=\"text-align: justify;\"> </p><p style=\"text-align:left; font-size:16px;\"><span style=\"font-size:16px;\">&#x200B;</span></p></body></html>"
      ],
      "text/plain": [
       "<IPython.core.display.HTML object>"
      ]
     },
     "metadata": {},
     "output_type": "display_data"
    },
    {
     "data": {
      "text/html": [
       "<html tasy=\"html5\"><body><p style=\"text-align: center;\"><strong><em><span style=\"\">ANOTAÇÃO DE ENFERMAGEM</span></em></strong></p><p><span style=\"\">21:30hAdmitida na RA em maca com grades elevadas acompanhada da enfermagem,paciente acomodada em leito,calma,hidratada,eupneica,mantendo avp em mse,sem sinais flogisticos,pulseira de identificação conferida,diurese presente em svd com débito de 100ml amarelo claro,evacuaçãoes ausente no momento,nega alergia medicamentosa no momento,chamar sempre que necessário.</span></p><p><span style=\"\">&#x200B;22:00hMedicado conforme prescrição CETOPROFENO EV.</span></p><p><span style=\"\">&#x200B;23:30hEncaminhada para o alojamento conjunto em maca com grades elevadas,acompanhada da enfermagem leito (717-b).</span></p><p> </p><p><span style=\"\">21:30hAdmitido RN em top baby,ativo,hidratado,eupneico,mantendo pulseira de dupla identificação conferido com genitora,eliminações fisiologicas ausente até o momento,encaminhada para a maternidade em top baby.</span></p><p><span style=\"\">&#x200B;22:00hP<span style=\"\">osiconado em seio,apresnta boa pega e sucção.</span> </span></p><p><span style=\"\">&#x200B;23:30hEncaminhada em top baby,para o alojemento conjunto.</span></p><p> </p><p style=\"text-align:center;\"> </p><p style=\"text-align:left;\"> </p><p style=\"text-align:center;\"> </p><p style=\"text-align:left;\"> </p><p> </p><p style=\"text-align:left;\"> </p><p style=\"text-align:center;\"> </p><p style=\"text-align:left; font-size:16px;\"><span style=\"font-size:16px;\">&#x200B;</span></p><p> </p></body></html>"
      ],
      "text/plain": [
       "<IPython.core.display.HTML object>"
      ]
     },
     "metadata": {},
     "output_type": "display_data"
    },
    {
     "data": {
      "text/html": [
       "<html tasy=\"html5\"><body><p style=\"text-align:center;\"><span style=\"font-style: normal; font-variant: normal; font-kerning: auto; font-optical-sizing: auto; font-feature-settings: normal; font-variation-settings: normal; font-stretch: normal; font-size: 10pt; font-family: Arial; color: rgb(0, 0, 0); background-color: rgb(255, 255, 255);\"><strong>EVOLUÇÃO MÉDICA AMBULATORIAL</strong></span></p><p style=\"text-align:center;\"><span style=\"font-style: normal; font-variant: normal; font-kerning: auto; font-optical-sizing: auto; font-feature-settings: normal; font-variation-settings: normal; font-stretch: normal; font-size: 10pt; font-family: Arial; color: rgb(0, 0, 0);\"><strong> </strong></span></p><p style=\"text-align:left;\"><span style=\"font-style: normal; font-variant: normal; font-kerning: auto; font-optical-sizing: auto; font-feature-settings: normal; font-variation-settings: normal; font-stretch: normal; font-size: 10pt; font-family: Arial; color: rgb(0, 0, 0);\"><strong> </strong></span></p><p><span style=\"font-size:16px;\"><span style=\"\">* ENDOCRINOLOGIA * </span></span></p><p><span style=\"font-size:16px;\"><span style=\"\">&#x200B;</span></span></p><p><span style=\"font-size:16px;\"><span style=\"\">PACIENTE COM DESEJO DE PERDA DE PESO</span></span></p><p><span style=\"font-size:16px;\"><span style=\"\">&#x200B;RELATA ANSIEDADE</span></span></p><p><span style=\"font-size:16px;\"><span style=\"\">&#x200B;</span></span></p><p><span style=\"font-size:16px;\"><span style=\"\">NEGA COMORBIDADES<br />\n",
       "NEGA ALERGIAS MEDICAMENTOSAS<br />\n",
       "NEGA GESTAÇÃO</span></span></p><p><span style=\"font-size:16px;\"><span style=\"\">&#x200B;</span></span></p><p><span style=\"font-size:16px;\"><span style=\"\">ALTURA: 1,55M<br />\n",
       "PESO: 90,5KG (15/01/2024)<br />\n",
       "IMC: 37,66</span></span></p><p><span style=\"font-size:16px;\"><span style=\"\">&#x200B;</span></span></p><p><span style=\"font-size:16px;\"><span style=\"\">ORIENTAÇÕES GERAIS<br />\n",
       "OREINTO SINAIS DE ALARME<br />\n",
       "ORIENTO MUDANÇAS DE ESTILO DE VIDA</span></span></p><p><span style=\"font-size:16px;\"><span style=\"\">SOLICITO EXAMES GERAIS</span></span></p><p><span style=\"font-size:16px;\"><span style=\"\">AMATO 25MG<br />\n",
       "PACIENTE CIENTE E CONCORDANTE</span></span></p></body></html>"
      ],
      "text/plain": [
       "<IPython.core.display.HTML object>"
      ]
     },
     "metadata": {},
     "output_type": "display_data"
    },
    {
     "data": {
      "text/html": [
       "<html tasy=\"html5\"><body><p style=\"text-align:left;\"><span style=\"font-style: normal; font-variant: normal; font-stretch: normal; font-size: 11pt; font-family: Arial; color: rgb(0, 0, 0); background-color: rgb(255, 255, 255);\">                                                         <strong>  ANAMNESE - CENTRO CLÍNICO</strong></span></p><p style=\"text-align:left;\"> </p><p style=\"text-align:left;\"><span style=\"\">Queixa Principal:   tem pedido de exames  pelo nutricionista   </span></p><p style=\"text-align:left;\"> </p><p style=\"text-align:left;\">Alergias: Paciente nega alergias</p><p style=\"text-align:left;\"> </p><p style=\"text-align:left;\"> </p><p style=\"text-align: justify;\"> </p><p style=\"text-align: justify;\"> </p><p style=\"text-align: justify;\">Hipótese Diagnóstica:  z10</p><p style=\"text-align: justify;\"> </p><p style=\"text-align: justify;\">Conduta:  lab protocolo   </p><p style=\"text-align: justify;\"> </p><p style=\"text-align:left; font-size:16px;\"><span style=\"font-size:16px;\">&#x200B;</span></p></body></html>"
      ],
      "text/plain": [
       "<IPython.core.display.HTML object>"
      ]
     },
     "metadata": {},
     "output_type": "display_data"
    },
    {
     "data": {
      "text/html": [
       "<html tasy=\"html5\"><body><p style=\"text-align:left;\"><span style=\"font-style: normal; font-variant: normal; font-stretch: normal; font-size: 11pt; font-family: Arial; color: rgb(0, 0, 0); background-color: rgb(255, 255, 255);\">                                                         <strong>  ANAMNESE - CENTRO CLÍNICO</strong></span></p><p style=\"text-align:left;\"> </p><p style=\"text-align:left;\"><span style=\"\">Queixa Principal: TUMORAÇÃO 2º DEDO PÉ DIR HA TEMPOS</span></p><p style=\"text-align:left;\"> </p><p style=\"text-align:left;\">Alergias: Nega Alergia à Medicamentos</p><p style=\"text-align:left;\"> </p><p style=\"text-align:left;\"><span style=\"\">HDA: </span></p><p style=\"text-align:left;\"> </p><p style=\"text-align:left;\"><span style=\"\">HPP: </span></p><p style=\"text-align:left;\"> </p><p style=\"text-align:left;\"><span style=\"\"><span style=\"\">Sinais Vitais</span></span></p><p style=\"text-align: justify;\"><span style=\"font-size:14px;\"><strong>PA: </strong>  X    <strong>FC: </strong>   <strong>FR:</strong>     <strong>T:</strong>   <strong>   Dor:</strong>   </span></p><p style=\"text-align: justify;\"> </p><p style=\"text-align: justify;\">Exame Físico:TUMORAÇÃO NO 2º DEDO DO PÉ DIR</p><p style=\"text-align: justify;\"> </p><p style=\"text-align: justify;\">Hipótese Diagnóstica:TUMORAÇÃO PÉ DIR</p><p style=\"text-align: justify;\"> </p><p style=\"text-align: justify;\">Conduta:RNM PÉ DIR</p><p style=\"text-align: justify;\"> </p><p style=\"text-align:left; font-size:16px;\"><span style=\"font-size:16px;\">&#x200B;</span></p></body></html>"
      ],
      "text/plain": [
       "<IPython.core.display.HTML object>"
      ]
     },
     "metadata": {},
     "output_type": "display_data"
    },
    {
     "data": {
      "text/html": [
       "<html tasy=\"html5\"><body><p style=\"text-align: center; margin-top: 5px; margin-bottom: 5px;\"><span style=\"\"><span style=\"font-size:11pt; font-variant:normal; white-space:pre-wrap\"><span style=\"font-family:Arial,sans-serif\"><span style=\"color:#000000\"><span style=\"font-weight:700\"><span style=\"font-style:normal\"><span style=\"text-decoration:none\">ANAMNESE / EXAME FÍSICO PS ADULTO </span></span></span></span></span></span></span></p><p> </p><p style=\"line-height:1.38\"><span style=\"\"><span style=\"font-size:11pt; font-variant:normal; white-space:pre-wrap\"><span style=\"font-family:Arial,sans-serif\"><span style=\"color:#000000\"><span style=\"font-weight:700\"><span style=\"font-style:normal\"><span style=\"text-decoration:none\">HMA</span></span></span></span></span></span><span style=\"font-size:11pt; font-variant:normal; white-space:pre-wrap\"><span style=\"font-family:Arial,sans-serif\"><span style=\"color:#000000\"><span style=\"font-weight:400\"><span style=\"font-style:normal\"><span style=\"text-decoration:none\">: Paciente queixa-se de rinorréia há 2 dias associado a odinofagia. </span></span></span></span></span></span></span></p><p style=\"line-height:1.38\"><span style=\"\"><span style=\"font-size:11pt; font-variant:normal; white-space:pre-wrap\"><span style=\"font-family:Arial,sans-serif\"><span style=\"color:#000000\"><span style=\"font-weight:400\"><span style=\"font-style:normal\"><span style=\"text-decoration:none\">Nega febre, outros sintomas respiratórios, gastrointestinais, urinários ou quaisquer outras queixas. </span></span></span></span></span></span></span></p><p> </p><p style=\"line-height:1.38\"><span style=\"\"><span style=\"font-size:11pt; font-variant:normal; white-space:pre-wrap\"><span style=\"font-family:Arial,sans-serif\"><span style=\"color:#000000\"><span style=\"font-weight:700\"><span style=\"font-style:normal\"><span style=\"text-decoration:none\">ALERGIA</span></span></span></span></span></span><span style=\"font-size:11pt; font-variant:normal; white-space:pre-wrap\"><span style=\"font-family:Arial,sans-serif\"><span style=\"color:#000000\"><span style=\"font-weight:400\"><span style=\"font-style:normal\"><span style=\"text-decoration:none\">: Nega.</span></span></span></span></span></span></span></p><p style=\"line-height:1.38\"><span style=\"\"><span style=\"font-size:11pt; font-variant:normal; white-space:pre-wrap\"><span style=\"font-family:Arial,sans-serif\"><span style=\"color:#000000\"><span style=\"font-weight:700\"><span style=\"font-style:normal\"><span style=\"text-decoration:none\">AP</span></span></span></span></span></span><span style=\"font-size:11pt; font-variant:normal; white-space:pre-wrap\"><span style=\"font-family:Arial,sans-serif\"><span style=\"color:#000000\"><span style=\"font-weight:400\"><span style=\"font-style:normal\"><span style=\"text-decoration:none\">: HAS.</span></span></span></span></span></span></span></p><p style=\"line-height:1.38\"><span style=\"\"><span style=\"font-size:11pt; font-variant:normal; white-space:pre-wrap\"><span style=\"font-family:Arial,sans-serif\"><span style=\"color:#000000\"><span style=\"font-weight:700\"><span style=\"font-style:normal\"><span style=\"text-decoration:none\">MUC</span></span></span></span></span></span><span style=\"font-size:11pt; font-variant:normal; white-space:pre-wrap\"><span style=\"font-family:Arial,sans-serif\"><span style=\"color:#000000\"><span style=\"font-weight:400\"><span style=\"font-style:normal\"><span style=\"text-decoration:none\">: LOSARTANA, HTZ, ANLODIPINO, FINASTERIDA.</span></span></span></span></span></span></span></p><p> </p><p style=\"line-height:1.38\"><span style=\"\"><span style=\"font-size:11pt; font-variant:normal; white-space:pre-wrap\"><span style=\"font-family:Arial,sans-serif\"><span style=\"color:#000000\"><span style=\"font-weight:700\"><span style=\"font-style:normal\"><span style=\"text-decoration:none\">EXAME FÍSICO: </span></span></span></span></span></span></span></p><p style=\"line-height:1.38\"><span style=\"\"><span style=\"font-size:11pt; font-variant:normal; white-space:pre-wrap\"><span style=\"font-family:Arial,sans-serif\"><span style=\"color:#000000\"><span style=\"font-weight:400\"><span style=\"font-style:normal\"><span style=\"text-decoration:none\">FC: 66 /  SatO2: 96%</span></span></span></span></span></span></span></p><p style=\"line-height:1.38\"><span style=\"\"><span style=\"font-size:11pt; font-variant:normal; white-space:pre-wrap\"><span style=\"font-family:Arial,sans-serif\"><span style=\"color:#000000\"><span style=\"font-weight:700\"><span style=\"font-style:normal\"><span style=\"text-decoration:none\">Ectoscopia</span></span></span></span></span></span><span style=\"font-size:11pt; font-variant:normal; white-space:pre-wrap\"><span style=\"font-family:Arial,sans-serif\"><span style=\"color:#000000\"><span style=\"font-weight:400\"><span style=\"font-style:normal\"><span style=\"text-decoration:none\">: BEG, LOTE, CHAAA, eupneico.</span></span></span></span></span></span></span></p><p style=\"line-height:1.38\"><span style=\"\"><span style=\"font-size:11pt; font-variant:normal; white-space:pre-wrap\"><span style=\"font-family:Arial,sans-serif\"><span style=\"color:#000000\"><span style=\"font-weight:700\"><span style=\"font-style:normal\"><span style=\"text-decoration:none\">Oroscopia: </span></span></span></span></span></span><span style=\"font-size:11pt; font-variant:normal; white-space:pre-wrap\"><span style=\"font-family:Arial,sans-serif\"><span style=\"color:#000000\"><span style=\"font-weight:400\"><span style=\"font-style:normal\"><span style=\"text-decoration:none\">ausência de pus, edema ou hiperemia</span></span></span></span></span></span></span></p><p style=\"line-height:1.38\"><span style=\"\"><span style=\"font-size:11pt; font-variant:normal; white-space:pre-wrap\"><span style=\"font-family:Arial,sans-serif\"><span style=\"color:#000000\"><span style=\"font-weight:700\"><span style=\"font-style:normal\"><span style=\"text-decoration:none\">Neurológico: </span></span></span></span></span></span><span style=\"font-size:11pt; font-variant:normal; white-space:pre-wrap\"><span style=\"font-family:Arial,sans-serif\"><span style=\"color:#000000\"><span style=\"font-weight:400\"><span style=\"font-style:normal\"><span style=\"text-decoration:none\">ECG 15. Ausência de sinais focais ou sinais meníngeos. </span></span></span></span></span></span></span></p><p style=\"line-height:1.38\"><span style=\"\"><span style=\"font-size:11pt; font-variant:normal; white-space:pre-wrap\"><span style=\"font-family:Arial,sans-serif\"><span style=\"color:#000000\"><span style=\"font-weight:700\"><span style=\"font-style:normal\"><span style=\"text-decoration:none\">Pele e anexos: </span></span></span></span></span></span><span style=\"font-size:11pt; font-variant:normal; white-space:pre-wrap\"><span style=\"font-family:Arial,sans-serif\"><span style=\"color:#000000\"><span style=\"font-weight:400\"><span style=\"font-style:normal\"><span style=\"text-decoration:none\">ausência de lesões ou erupções cutâneas. </span></span></span></span></span></span></span></p><p style=\"line-height:1.38\"><span style=\"\"><span style=\"font-size:11pt; font-variant:normal; white-space:pre-wrap\"><span style=\"font-family:Arial,sans-serif\"><span style=\"color:#000000\"><span style=\"font-weight:700\"><span style=\"font-style:normal\"><span style=\"text-decoration:none\">Cabeça e pescoço</span></span></span></span></span></span><span style=\"font-size:11pt; font-variant:normal; white-space:pre-wrap\"><span style=\"font-family:Arial,sans-serif\"><span style=\"color:#000000\"><span style=\"font-weight:400\"><span style=\"font-style:normal\"><span style=\"text-decoration:none\">: Ausência de linfonodomegalias. Sem alterações. </span></span></span></span></span></span></span></p><p style=\"line-height:1.38\"><span style=\"\"><span style=\"font-size:11pt; font-variant:normal; white-space:pre-wrap\"><span style=\"font-family:Arial,sans-serif\"><span style=\"color:#000000\"><span style=\"font-weight:700\"><span style=\"font-style:normal\"><span style=\"text-decoration:none\">ACV</span></span></span></span></span></span><span style=\"font-size:11pt; font-variant:normal; white-space:pre-wrap\"><span style=\"font-family:Arial,sans-serif\"><span style=\"color:#000000\"><span style=\"font-weight:400\"><span style=\"font-style:normal\"><span style=\"text-decoration:none\">: bulhas rítmicas, normofonéticas, em 2 tempos, sem sopros. Pulsos radiais simétricos.</span></span></span></span></span></span></span></p><p style=\"line-height:1.38\"><span style=\"\"><span style=\"font-size:11pt; font-variant:normal; white-space:pre-wrap\"><span style=\"font-family:Arial,sans-serif\"><span style=\"color:#000000\"><span style=\"font-weight:700\"><span style=\"font-style:normal\"><span style=\"text-decoration:none\">AP</span></span></span></span></span></span><span style=\"font-size:11pt; font-variant:normal; white-space:pre-wrap\"><span style=\"font-family:Arial,sans-serif\"><span style=\"color:#000000\"><span style=\"font-weight:400\"><span style=\"font-style:normal\"><span style=\"text-decoration:none\">: murmúrios vesiculares presentes, sem ruídos adventícios.</span></span></span></span></span></span></span></p><p style=\"line-height:1.38\"><span style=\"\"><span style=\"font-size:11pt; font-variant:normal; white-space:pre-wrap\"><span style=\"font-family:Arial,sans-serif\"><span style=\"color:#000000\"><span style=\"font-weight:700\"><span style=\"font-style:normal\"><span style=\"text-decoration:none\">ABD</span></span></span></span></span></span><span style=\"font-size:11pt; font-variant:normal; white-space:pre-wrap\"><span style=\"font-family:Arial,sans-serif\"><span style=\"color:#000000\"><span style=\"font-weight:400\"><span style=\"font-style:normal\"><span style=\"text-decoration:none\">: RHA+, flácido, indolor à palpação, sem VCM, DB -, Giordano -</span></span></span></span></span></span></span></p><p style=\"line-height:1.38\"><span style=\"\"><span style=\"font-size:11pt; font-variant:normal; white-space:pre-wrap\"><span style=\"font-family:Arial,sans-serif\"><span style=\"color:#000000\"><span style=\"font-weight:700\"><span style=\"font-style:normal\"><span style=\"text-decoration:none\">Membros</span></span></span></span></span></span><span style=\"font-size:11pt; font-variant:normal; white-space:pre-wrap\"><span style=\"font-family:Arial,sans-serif\"><span style=\"color:#000000\"><span style=\"font-weight:400\"><span style=\"font-style:normal\"><span style=\"text-decoration:none\">: sem edemas ou sinais de TVP. Pulsos cheios e simétricos. Panturrilhas livres.</span></span></span></span></span></span></span></p><p> </p><p style=\"line-height:1.38\"><span style=\"\"><span style=\"font-size:11pt; font-variant:normal; white-space:pre-wrap\"><span style=\"font-family:Arial,sans-serif\"><span style=\"color:#000000\"><span style=\"font-weight:700\"><span style=\"font-style:normal\"><span style=\"text-decoration:none\">HD</span></span></span></span></span></span><span style=\"font-size:11pt; font-variant:normal; white-space:pre-wrap\"><span style=\"font-family:Arial,sans-serif\"><span style=\"color:#000000\"><span style=\"font-weight:400\"><span style=\"font-style:normal\"><span style=\"text-decoration:none\">: J00</span></span></span></span></span></span></span></p><p> </p><p style=\"line-height:1.38\"><span style=\"\"><span style=\"font-size:11pt; font-variant:normal; white-space:pre-wrap\"><span style=\"font-family:Arial,sans-serif\"><span style=\"color:#000000\"><span style=\"font-weight:700\"><span style=\"font-style:normal\"><span style=\"text-decoration:none\">Conduta</span></span></span></span></span></span><span style=\"font-size:11pt; font-variant:normal; white-space:pre-wrap\"><span style=\"font-family:Arial,sans-serif\"><span style=\"color:#000000\"><span style=\"font-weight:400\"><span style=\"font-style:normal\"><span style=\"text-decoration:none\">:</span></span></span></span></span></span></span></p><p style=\"line-height:1.38\"><span style=\"\"><span style=\"font-size:11pt; font-variant:normal; white-space:pre-wrap\"><span style=\"font-family:Arial,sans-serif\"><span style=\"color:#000000\"><span style=\"font-weight:400\"><span style=\"font-style:normal\"><span style=\"text-decoration:none\">- Prescrevo </span></span></span></span></span></span></span></p><p style=\"line-height:1.38\"><span style=\"\"><span style=\"font-size:11pt; font-variant:normal; white-space:pre-wrap\"><span style=\"font-family:Arial,sans-serif\"><span style=\"color:#000000\"><span style=\"font-weight:400\"><span style=\"font-style:normal\"><span style=\"text-decoration:none\">- Prescrevo sintomáticos para casa</span></span></span></span></span></span></span></p><p style=\"line-height:1.38\"><span style=\"\"><span style=\"font-size:11pt; font-variant:normal; white-space:pre-wrap\"><span style=\"font-family:Arial,sans-serif\"><span style=\"color:#000000\"><span style=\"font-weight:400\"><span style=\"font-style:normal\"><span style=\"text-decoration:none\">- Forneço atestado médico de hoje</span></span></span></span></span></span></span></p><p style=\"line-height:1.38\"><span style=\"\"><span style=\"font-size:11pt; font-variant:normal; white-space:pre-wrap\"><span style=\"font-family:Arial,sans-serif\"><span style=\"color:#000000\"><span style=\"font-weight:400\"><span style=\"font-style:normal\"><span style=\"text-decoration:none\">- Paciente de acordo com a conduta</span></span></span></span></span></span></span></p><p style=\"line-height:1.38\"><span style=\"\"><span style=\"font-size:11pt; font-variant:normal; white-space:pre-wrap\"><span style=\"font-family:Arial,sans-serif\"><span style=\"color:#000000\"><span style=\"font-weight:400\"><span style=\"font-style:normal\"><span style=\"text-decoration:none\">- Oriento cuidados gerais</span></span></span></span></span></span></span></p><p style=\"line-height:1.38\"><span style=\"\"><span style=\"font-size:11pt; font-variant:normal; white-space:pre-wrap\"><span style=\"font-family:Arial,sans-serif\"><span style=\"color:#000000\"><span style=\"font-weight:400\"><span style=\"font-style:normal\"><span style=\"text-decoration:none\">- Oriento retorno ao PS caso sinais de alarme.</span></span></span></span></span></span></span></p><p style=\"line-height:1.38\"><span style=\"\"><span style=\"font-size:11pt; font-variant:normal; white-space:pre-wrap\"><span style=\"font-family:Arial,sans-serif\"><span style=\"color:#000000\"><span style=\"font-weight:400\"><span style=\"font-style:normal\"><span style=\"text-decoration:none\">- Alta do PS</span></span></span></span></span></span></span></p></body></html>"
      ],
      "text/plain": [
       "<IPython.core.display.HTML object>"
      ]
     },
     "metadata": {},
     "output_type": "display_data"
    }
   ],
   "source": [
    "# Avaliando alguns textos em HTML\n",
    "\n",
    "df_filtered_html = df_doc.loc[df_doc['text_type'] == 'text/html']\n",
    "\n",
    "display(HTML(df_filtered_html['text'].iloc[0]))\n",
    "display(HTML(df_filtered_html['text'].iloc[100]))\n",
    "display(HTML(df_filtered_html['text'].iloc[200]))\n",
    "display(HTML(df_filtered_html['text'].iloc[300]))\n",
    "display(HTML(df_filtered_html['text'].iloc[400]))\n",
    "display(HTML(df_filtered_html['text'].iloc[500]))\n",
    "\n",
    "\n"
   ]
  },
  {
   "cell_type": "markdown",
   "metadata": {},
   "source": [
    "## Extraindo Padrões"
   ]
  },
  {
   "cell_type": "markdown",
   "metadata": {},
   "source": [
    "Ao observar os documentos acima, é possível notar que alguns possuem um formato que facilita a anotação de diagnósticos. Há um campo chamado **\"Hipótese Diagnóstica\"** e, logo após, uma sigla ou o nome completo do diagnóstico.  \n",
    "\n",
    "Para este trabalho, vamos nos focar nesse atributo.  \n",
    "\n",
    "Deste modo, o próximo passo é definir uma função capaz de extrair estes rótulos."
   ]
  },
  {
   "cell_type": "code",
   "execution_count": 47,
   "metadata": {},
   "outputs": [
    {
     "data": {
      "text/plain": [
       "'<html tasy=\"html5\"><body><p style=\"text-align:left;\"><span style=\"font-style: normal; font-variant: normal; font-stretch: normal; font-size: 11pt; font-family: Arial; color: rgb(0, 0, 0); background-color: rgb(255, 255, 255);\">\\xa0 \\xa0 \\xa0 \\xa0 \\xa0 \\xa0 \\xa0 \\xa0 \\xa0 \\xa0 \\xa0 \\xa0 \\xa0 \\xa0 \\xa0 \\xa0 \\xa0 \\xa0 \\xa0 \\xa0 \\xa0 \\xa0 \\xa0 \\xa0 \\xa0 \\xa0 \\xa0 \\xa0 \\xa0<strong>\\xa0 ANAMNESE - CENTRO CLÍNICO</strong></span></p><p style=\"text-align:left;\">\\xa0</p><p style=\"text-align:left;\"><span style=\"\">Queixa Principal: TUMORAÇÃO 2º DEDO PÉ DIR HA TEMPOS</span></p><p style=\"text-align:left;\">\\xa0</p><p style=\"text-align:left;\">Alergias: Nega Alergia à Medicamentos</p><p style=\"text-align:left;\">\\xa0</p><p style=\"text-align:left;\"><span style=\"\">HDA:\\xa0</span></p><p style=\"text-align:left;\">\\xa0</p><p style=\"text-align:left;\"><span style=\"\">HPP:\\xa0</span></p><p style=\"text-align:left;\">\\xa0</p><p style=\"text-align:left;\"><span style=\"\"><span style=\"\">Sinais Vitais</span></span></p><p style=\"text-align: justify;\"><span style=\"font-size:14px;\"><strong>PA:\\xa0</strong>\\xa0 X\\xa0 \\xa0 <strong>FC:\\xa0</strong>\\xa0 \\xa0<strong>FR:</strong>\\xa0 \\xa0 \\xa0<strong>T:</strong>\\xa0 \\xa0<strong>\\xa0 \\xa0Dor:</strong>\\xa0 \\xa0</span></p><p style=\"text-align: justify;\">\\xa0</p><p style=\"text-align: justify;\">Exame Físico:TUMORAÇÃO NO 2º DEDO DO PÉ DIR</p><p style=\"text-align: justify;\">\\xa0</p><p style=\"text-align: justify;\">Hipótese Diagnóstica:TUMORAÇÃO PÉ DIR</p><p style=\"text-align: justify;\">\\xa0</p><p style=\"text-align: justify;\">Conduta:RNM PÉ DIR</p><p style=\"text-align: justify;\">\\xa0</p><p style=\"text-align:left; font-size:16px;\"><span style=\"font-size:16px;\">&#x200B;</span></p></body></html>'"
      ]
     },
     "execution_count": 47,
     "metadata": {},
     "output_type": "execute_result"
    }
   ],
   "source": [
    "df_filtered_html['text'].iloc[400]"
   ]
  },
  {
   "cell_type": "code",
   "execution_count": 48,
   "metadata": {},
   "outputs": [],
   "source": [
    "def extrair_hipotese_diagnostica(html):\n",
    "    # Parseia o HTML\n",
    "    soup = BeautifulSoup(html, 'html.parser')\n",
    "\n",
    "    # Encontra o texto que vem após 'Hipótese Diagnóstica:'\n",
    "    texto = soup.get_text()\n",
    "\n",
    "    # Usando regex para encontrar o texto após 'Hipótese Diagnóstica:'\n",
    "    padrao = re.compile(r'Hipótese Diagnóstica:([^\\n]+)')\n",
    "    resultado = padrao.search(texto)\n",
    "\n",
    "    if resultado:\n",
    "        match_result = resultado.group(1).strip()\n",
    "        match_result = match_result.replace('\\xa0', '||')\n",
    "        match_result = match_result.replace('\\u200b', '||')\n",
    "        match_result = match_result.split('||')[0]\n",
    "\n",
    "        return match_result  # Retorna o texto após 'Hipótese Diagnóstica:'\n",
    "    else:\n",
    "        return None  # Caso não encontre o padrão\n",
    "\n",
    "extrair_hipotese_diagnostica(df_filtered_html['text'].iloc[5])"
   ]
  },
  {
   "cell_type": "code",
   "execution_count": 49,
   "metadata": {},
   "outputs": [
    {
     "name": "stderr",
     "output_type": "stream",
     "text": [
      "/tmp/ipykernel_866699/2961999388.py:3: MarkupResemblesLocatorWarning: The input looks more like a filename than markup. You may want to open this file and pass the filehandle into Beautiful Soup.\n",
      "  soup = BeautifulSoup(html, 'html.parser')\n"
     ]
    },
    {
     "data": {
      "text/html": [
       "<div>\n",
       "<style scoped>\n",
       "    .dataframe tbody tr th:only-of-type {\n",
       "        vertical-align: middle;\n",
       "    }\n",
       "\n",
       "    .dataframe tbody tr th {\n",
       "        vertical-align: top;\n",
       "    }\n",
       "\n",
       "    .dataframe thead th {\n",
       "        text-align: right;\n",
       "    }\n",
       "</style>\n",
       "<table border=\"1\" class=\"dataframe\">\n",
       "  <thead>\n",
       "    <tr style=\"text-align: right;\">\n",
       "      <th></th>\n",
       "      <th>patient_id</th>\n",
       "      <th>age</th>\n",
       "      <th>sex</th>\n",
       "      <th>ehr_date</th>\n",
       "      <th>text</th>\n",
       "      <th>text_type</th>\n",
       "      <th>hipotese_diagnostica</th>\n",
       "    </tr>\n",
       "  </thead>\n",
       "  <tbody>\n",
       "    <tr>\n",
       "      <th>0</th>\n",
       "      <td>341196</td>\n",
       "      <td>82.0</td>\n",
       "      <td>M</td>\n",
       "      <td>2023-09-05 10:23:37</td>\n",
       "      <td>&lt;html tasy=\"html5\"&gt;&lt;body&gt;&lt;p style=\"text-align:...</td>\n",
       "      <td>text/html</td>\n",
       "      <td>hernia inguinal</td>\n",
       "    </tr>\n",
       "    <tr>\n",
       "      <th>1</th>\n",
       "      <td>4309949</td>\n",
       "      <td>32.0</td>\n",
       "      <td>F</td>\n",
       "      <td>2023-11-01 12:10:59</td>\n",
       "      <td>&lt;html tasy=\"html5\"&gt;&lt;body&gt;&lt;p style=\"text-align:...</td>\n",
       "      <td>text/html</td>\n",
       "      <td>None</td>\n",
       "    </tr>\n",
       "    <tr>\n",
       "      <th>2</th>\n",
       "      <td>404932</td>\n",
       "      <td>91.0</td>\n",
       "      <td>M</td>\n",
       "      <td>2023-09-16 07:24:02</td>\n",
       "      <td>{\\rtf1\\ansi\\ansicpg1252{\\fonttbl{\\f0\\fnil\\fcha...</td>\n",
       "      <td>text/rtf</td>\n",
       "      <td>None</td>\n",
       "    </tr>\n",
       "    <tr>\n",
       "      <th>3</th>\n",
       "      <td>5603035</td>\n",
       "      <td>53.0</td>\n",
       "      <td>F</td>\n",
       "      <td>2024-08-03 06:56:48</td>\n",
       "      <td>RET 6 MESES PARA AVALIAÇÃO CALCIO + VIT D</td>\n",
       "      <td>text/plain</td>\n",
       "      <td>None</td>\n",
       "    </tr>\n",
       "    <tr>\n",
       "      <th>4</th>\n",
       "      <td>154876</td>\n",
       "      <td>27.0</td>\n",
       "      <td>M</td>\n",
       "      <td>2023-11-05 04:58:01</td>\n",
       "      <td>{\\rtf1\\ansi\\ansicpg1252{\\fonttbl{\\f0\\fnil\\fcha...</td>\n",
       "      <td>text/rtf</td>\n",
       "      <td>None</td>\n",
       "    </tr>\n",
       "  </tbody>\n",
       "</table>\n",
       "</div>"
      ],
      "text/plain": [
       "   patient_id   age sex             ehr_date  \\\n",
       "0      341196  82.0   M  2023-09-05 10:23:37   \n",
       "1     4309949  32.0   F  2023-11-01 12:10:59   \n",
       "2      404932  91.0   M  2023-09-16 07:24:02   \n",
       "3     5603035  53.0   F  2024-08-03 06:56:48   \n",
       "4      154876  27.0   M  2023-11-05 04:58:01   \n",
       "\n",
       "                                                text   text_type  \\\n",
       "0  <html tasy=\"html5\"><body><p style=\"text-align:...   text/html   \n",
       "1  <html tasy=\"html5\"><body><p style=\"text-align:...   text/html   \n",
       "2  {\\rtf1\\ansi\\ansicpg1252{\\fonttbl{\\f0\\fnil\\fcha...    text/rtf   \n",
       "3          RET 6 MESES PARA AVALIAÇÃO CALCIO + VIT D  text/plain   \n",
       "4  {\\rtf1\\ansi\\ansicpg1252{\\fonttbl{\\f0\\fnil\\fcha...    text/rtf   \n",
       "\n",
       "  hipotese_diagnostica  \n",
       "0      hernia inguinal  \n",
       "1                 None  \n",
       "2                 None  \n",
       "3                 None  \n",
       "4                 None  "
      ]
     },
     "execution_count": 49,
     "metadata": {},
     "output_type": "execute_result"
    }
   ],
   "source": [
    "df_doc['hipotese_diagnostica'] = df_doc['text'].apply(lambda x: extrair_hipotese_diagnostica(x))\n",
    "# Lower case para padronizar o texto\n",
    "df_doc['hipotese_diagnostica'] = df_doc['hipotese_diagnostica'].str.lower()\n",
    "df_doc.head()"
   ]
  },
  {
   "cell_type": "code",
   "execution_count": 50,
   "metadata": {},
   "outputs": [
    {
     "name": "stdout",
     "output_type": "stream",
     "text": [
      "Total de hipóteses diagnósticas extraídas:  1103\n",
      "Total de hipóteses diagnósticas distintas extraídas:  753\n"
     ]
    }
   ],
   "source": [
    "# Calcula o número total de hipóteses diagnósticas extraídas\n",
    "total_hipoteses = df_doc['hipotese_diagnostica'].count()\n",
    "\n",
    "# Calcula o número de hipóteses distintas extraídas|\n",
    "hipoteses_distintas = df_doc['hipotese_diagnostica'].unique().shape[0]\n",
    "\n",
    "print(\"Total de hipóteses diagnósticas extraídas: \", total_hipoteses)\n",
    "\n",
    "print(\"Total de hipóteses diagnósticas distintas extraídas: \", hipoteses_distintas)"
   ]
  },
  {
   "cell_type": "code",
   "execution_count": 9,
   "metadata": {},
   "outputs": [
    {
     "data": {
      "text/plain": [
       "hipotese_diagnostica\n",
       "                                                 45\n",
       "conduta:                                         40\n",
       "rotina                                           18\n",
       "ivas                                             16\n",
       "has                                              14\n",
       "r10                                              12\n",
       "geca                                             12\n",
       "z10                                              11\n",
       "r51                                               9\n",
       "amigdalite                                        9\n",
       "itu                                               8\n",
       "gastroenterite                                    6\n",
       "dispepsia                                         6\n",
       "sinusite                                          6\n",
       "dor abdominal                                     5\n",
       "lombalgia                                         5\n",
       "z370 - nascimento unico, nativivo [nado-vivo]     5\n",
       "enxaqueca                                         5\n",
       "dorsalgia                                         5\n",
       "amigdalite aguda                                  4\n",
       "Name: count, dtype: int64"
      ]
     },
     "execution_count": 9,
     "metadata": {},
     "output_type": "execute_result"
    }
   ],
   "source": [
    "df_doc['hipotese_diagnostica'].dropna().value_counts().head(20)"
   ]
  },
  {
   "cell_type": "markdown",
   "metadata": {},
   "source": [
    "Ao analisar as 20 hipóteses diagnósticas mais frequentes, é possível identificar alguns erros de extração, como a presença de um campo vazio na primeira posição e a ocorrência do termo \"conduta:\". Além disso, observa-se que \"rotina\" aparece como uma hipótese diagnóstica, o que não é apropriado. Portanto, a melhor abordagem para lidar com esses casos é remover as linhas que contêm essas classificações."
   ]
  },
  {
   "cell_type": "code",
   "execution_count": 56,
   "metadata": {},
   "outputs": [
    {
     "data": {
      "text/html": [
       "<div>\n",
       "<style scoped>\n",
       "    .dataframe tbody tr th:only-of-type {\n",
       "        vertical-align: middle;\n",
       "    }\n",
       "\n",
       "    .dataframe tbody tr th {\n",
       "        vertical-align: top;\n",
       "    }\n",
       "\n",
       "    .dataframe thead th {\n",
       "        text-align: right;\n",
       "    }\n",
       "</style>\n",
       "<table border=\"1\" class=\"dataframe\">\n",
       "  <thead>\n",
       "    <tr style=\"text-align: right;\">\n",
       "      <th></th>\n",
       "      <th>patient_id</th>\n",
       "      <th>age</th>\n",
       "      <th>sex</th>\n",
       "      <th>ehr_date</th>\n",
       "      <th>text</th>\n",
       "      <th>text_type</th>\n",
       "      <th>hipotese_diagnostica</th>\n",
       "    </tr>\n",
       "  </thead>\n",
       "  <tbody>\n",
       "    <tr>\n",
       "      <th>0</th>\n",
       "      <td>341196</td>\n",
       "      <td>82.0</td>\n",
       "      <td>M</td>\n",
       "      <td>2023-09-05 10:23:37</td>\n",
       "      <td>&lt;html tasy=\"html5\"&gt;&lt;body&gt;&lt;p style=\"text-align:...</td>\n",
       "      <td>text/html</td>\n",
       "      <td>hernia inguinal</td>\n",
       "    </tr>\n",
       "    <tr>\n",
       "      <th>6</th>\n",
       "      <td>3811139</td>\n",
       "      <td>41.0</td>\n",
       "      <td>F</td>\n",
       "      <td>2023-11-01 16:10:17</td>\n",
       "      <td>&lt;html tasy=\"html5\"&gt;&lt;body&gt;&lt;p style=\"text-align:...</td>\n",
       "      <td>text/html</td>\n",
       "      <td>dm2</td>\n",
       "    </tr>\n",
       "    <tr>\n",
       "      <th>7</th>\n",
       "      <td>4648024</td>\n",
       "      <td>52.0</td>\n",
       "      <td>M</td>\n",
       "      <td>2024-02-01 19:38:11</td>\n",
       "      <td>&lt;html tasy=\"html5\"&gt;&lt;body&gt;&lt;p style=\"text-align:...</td>\n",
       "      <td>text/html</td>\n",
       "      <td>cefaleia</td>\n",
       "    </tr>\n",
       "    <tr>\n",
       "      <th>10</th>\n",
       "      <td>2426382</td>\n",
       "      <td>20.0</td>\n",
       "      <td>F</td>\n",
       "      <td>2023-09-05 10:14:14</td>\n",
       "      <td>&lt;html tasy=\"html5\"&gt;&lt;body&gt;&lt;p style=\"text-align:...</td>\n",
       "      <td>text/html</td>\n",
       "      <td>k35</td>\n",
       "    </tr>\n",
       "    <tr>\n",
       "      <th>15</th>\n",
       "      <td>3037495</td>\n",
       "      <td>4.0</td>\n",
       "      <td>F</td>\n",
       "      <td>2023-11-12 10:05:06</td>\n",
       "      <td>&lt;html tasy=\"html5\"&gt;&lt;body&gt;&lt;p&gt;&lt;span style=\"\"&gt;&lt;sp...</td>\n",
       "      <td>text/html</td>\n",
       "      <td>j20 + j18</td>\n",
       "    </tr>\n",
       "    <tr>\n",
       "      <th>...</th>\n",
       "      <td>...</td>\n",
       "      <td>...</td>\n",
       "      <td>...</td>\n",
       "      <td>...</td>\n",
       "      <td>...</td>\n",
       "      <td>...</td>\n",
       "      <td>...</td>\n",
       "    </tr>\n",
       "    <tr>\n",
       "      <th>6794</th>\n",
       "      <td>3917585</td>\n",
       "      <td>21.0</td>\n",
       "      <td>M</td>\n",
       "      <td>2024-03-06 23:16:59</td>\n",
       "      <td>&lt;html tasy=\"html5\"&gt;&lt;body&gt;&lt;p style=\"text-align:...</td>\n",
       "      <td>text/html</td>\n",
       "      <td>trauma</td>\n",
       "    </tr>\n",
       "    <tr>\n",
       "      <th>6797</th>\n",
       "      <td>5000919</td>\n",
       "      <td>28.0</td>\n",
       "      <td>F</td>\n",
       "      <td>2023-10-10 16:57:12</td>\n",
       "      <td>&lt;html tasy=\"html5\"&gt;&lt;body&gt;&lt;p style=\"text-align:...</td>\n",
       "      <td>text/html</td>\n",
       "      <td>z108</td>\n",
       "    </tr>\n",
       "    <tr>\n",
       "      <th>6800</th>\n",
       "      <td>1071389</td>\n",
       "      <td>83.0</td>\n",
       "      <td>F</td>\n",
       "      <td>2023-09-26 21:05:48</td>\n",
       "      <td>&lt;html tasy=\"html5\"&gt;&lt;body&gt;&lt;p style=\"text-align:...</td>\n",
       "      <td>text/html</td>\n",
       "      <td>r10</td>\n",
       "    </tr>\n",
       "    <tr>\n",
       "      <th>6813</th>\n",
       "      <td>4894228</td>\n",
       "      <td>28.0</td>\n",
       "      <td>F</td>\n",
       "      <td>2023-10-05 12:26:28</td>\n",
       "      <td>&lt;html tasy=\"html5\"&gt;&lt;body&gt;&lt;p style=\"text-align:...</td>\n",
       "      <td>text/html</td>\n",
       "      <td>dengue ?</td>\n",
       "    </tr>\n",
       "    <tr>\n",
       "      <th>6816</th>\n",
       "      <td>5142441</td>\n",
       "      <td>35.0</td>\n",
       "      <td>F</td>\n",
       "      <td>2023-09-01 17:18:38</td>\n",
       "      <td>&lt;html tasy=\"html5\"&gt;&lt;body&gt;&lt;p style=\"text-align:...</td>\n",
       "      <td>text/html</td>\n",
       "      <td>ivas</td>\n",
       "    </tr>\n",
       "  </tbody>\n",
       "</table>\n",
       "<p>889 rows × 7 columns</p>\n",
       "</div>"
      ],
      "text/plain": [
       "      patient_id   age sex             ehr_date  \\\n",
       "0         341196  82.0   M  2023-09-05 10:23:37   \n",
       "6        3811139  41.0   F  2023-11-01 16:10:17   \n",
       "7        4648024  52.0   M  2024-02-01 19:38:11   \n",
       "10       2426382  20.0   F  2023-09-05 10:14:14   \n",
       "15       3037495   4.0   F  2023-11-12 10:05:06   \n",
       "...          ...   ...  ..                  ...   \n",
       "6794     3917585  21.0   M  2024-03-06 23:16:59   \n",
       "6797     5000919  28.0   F  2023-10-10 16:57:12   \n",
       "6800     1071389  83.0   F  2023-09-26 21:05:48   \n",
       "6813     4894228  28.0   F  2023-10-05 12:26:28   \n",
       "6816     5142441  35.0   F  2023-09-01 17:18:38   \n",
       "\n",
       "                                                   text  text_type  \\\n",
       "0     <html tasy=\"html5\"><body><p style=\"text-align:...  text/html   \n",
       "6     <html tasy=\"html5\"><body><p style=\"text-align:...  text/html   \n",
       "7     <html tasy=\"html5\"><body><p style=\"text-align:...  text/html   \n",
       "10    <html tasy=\"html5\"><body><p style=\"text-align:...  text/html   \n",
       "15    <html tasy=\"html5\"><body><p><span style=\"\"><sp...  text/html   \n",
       "...                                                 ...        ...   \n",
       "6794  <html tasy=\"html5\"><body><p style=\"text-align:...  text/html   \n",
       "6797  <html tasy=\"html5\"><body><p style=\"text-align:...  text/html   \n",
       "6800  <html tasy=\"html5\"><body><p style=\"text-align:...  text/html   \n",
       "6813  <html tasy=\"html5\"><body><p style=\"text-align:...  text/html   \n",
       "6816  <html tasy=\"html5\"><body><p style=\"text-align:...  text/html   \n",
       "\n",
       "     hipotese_diagnostica  \n",
       "0         hernia inguinal  \n",
       "6                     dm2  \n",
       "7                cefaleia  \n",
       "10                    k35  \n",
       "15              j20 + j18  \n",
       "...                   ...  \n",
       "6794               trauma  \n",
       "6797                 z108  \n",
       "6800                  r10  \n",
       "6813             dengue ?  \n",
       "6816                 ivas  \n",
       "\n",
       "[889 rows x 7 columns]"
      ]
     },
     "execution_count": 56,
     "metadata": {},
     "output_type": "execute_result"
    }
   ],
   "source": [
    "df_doc[~df_doc['hipotese_diagnostica'].str.contains('conduta', na=False)]"
   ]
  },
  {
   "cell_type": "code",
   "execution_count": 57,
   "metadata": {},
   "outputs": [
    {
     "name": "stdout",
     "output_type": "stream",
     "text": [
      "Total de hipóteses diagnósticas extraídas:  862\n",
      "Total de hipóteses diagnósticas distintas extraídas:  617\n"
     ]
    },
    {
     "data": {
      "text/plain": [
       "hipotese_diagnostica\n",
       "ivas                                             16\n",
       "has                                              14\n",
       "r10                                              12\n",
       "geca                                             12\n",
       "z10                                              11\n",
       "amigdalite                                        9\n",
       "r51                                               9\n",
       "itu                                               8\n",
       "dispepsia                                         6\n",
       "sinusite                                          6\n",
       "gastroenterite                                    6\n",
       "z370 - nascimento unico, nativivo [nado-vivo]     5\n",
       "lombalgia                                         5\n",
       "dorsalgia                                         5\n",
       "enxaqueca                                         5\n",
       "dor abdominal                                     5\n",
       "j159 - pneumonia bacteriana nao especificada      4\n",
       "alergia                                           4\n",
       "amigdalite aguda                                  4\n",
       "ansiedade                                         4\n",
       "Name: count, dtype: int64"
      ]
     },
     "metadata": {},
     "output_type": "display_data"
    }
   ],
   "source": [
    "# Remove linhas com hipose_diagnostica nula, contém \"conduta\" e \"rotina\"\n",
    "df_doc = df_doc[~(df_doc['hipotese_diagnostica'] == '')]\n",
    "df_doc = df_doc[~df_doc['hipotese_diagnostica'].str.contains('conduta', na=False)]\n",
    "df_doc = df_doc[~df_doc['hipotese_diagnostica'].str.contains('rotina', na=False)]\n",
    "\n",
    "# Calcula o número total de hipóteses diagnósticas extraídas\n",
    "total_hipoteses = df_doc['hipotese_diagnostica'].count()\n",
    "\n",
    "# Calcula o número de hipóteses distintas extraídas|\n",
    "hipoteses_distintas = df_doc['hipotese_diagnostica'].unique().shape[0]\n",
    "\n",
    "print(\"Total de hipóteses diagnósticas extraídas: \", total_hipoteses)\n",
    "\n",
    "print(\"Total de hipóteses diagnósticas distintas extraídas: \", hipoteses_distintas)\n",
    "\n",
    "display(df_doc['hipotese_diagnostica'].dropna().value_counts().head(20))"
   ]
  },
  {
   "cell_type": "markdown",
   "metadata": {},
   "source": [
    "Com base na tabela acima, conclui-se que os diagnósticos mais comuns nos documentos analisados são **IVAS** e **HAS**, siglas que correspondem a \"Infecções Agudas das Vias Aéreas Superiores\" e \"Hipertensão Arterial Sistêmica\".\n"
   ]
  },
  {
   "cell_type": "markdown",
   "metadata": {},
   "source": [
    "# Etapa 2\n",
    "- Como você extrairia informações de medicamentos, exames e doenças do paciente? Analise os dados que tem em mãos e descreva o pipeline de desenvolvimento para um modelo como esses, levando em consideração todo o processo de análise, anotação, treino até a validação do modelo. "
   ]
  },
  {
   "cell_type": "markdown",
   "metadata": {},
   "source": [
    "A etapa anterior abordou a extração de hipóteses diagnósticas. Nesta etapa, o foco será preparar o conjunto de dados no formato necessário para treinar um modelo no spaCy. Além disso, o conjunto de dados será dividido em três partes: treino, validação e teste, garantindo uma estrutura adequada para a avaliação do modelo.\n",
    "\n",
    "O primeiro passo para prepara o conjunto de dados é extrair o texto do formato html de modo a convertê-lo em plain text"
   ]
  },
  {
   "cell_type": "code",
   "execution_count": 58,
   "metadata": {},
   "outputs": [
    {
     "data": {
      "text/html": [
       "<div>\n",
       "<style scoped>\n",
       "    .dataframe tbody tr th:only-of-type {\n",
       "        vertical-align: middle;\n",
       "    }\n",
       "\n",
       "    .dataframe tbody tr th {\n",
       "        vertical-align: top;\n",
       "    }\n",
       "\n",
       "    .dataframe thead th {\n",
       "        text-align: right;\n",
       "    }\n",
       "</style>\n",
       "<table border=\"1\" class=\"dataframe\">\n",
       "  <thead>\n",
       "    <tr style=\"text-align: right;\">\n",
       "      <th></th>\n",
       "      <th>processed_text</th>\n",
       "      <th>text</th>\n",
       "    </tr>\n",
       "  </thead>\n",
       "  <tbody>\n",
       "    <tr>\n",
       "      <th>0</th>\n",
       "      <td>anamnese - centro clínico   queixa principal:...</td>\n",
       "      <td>&lt;html tasy=\"html5\"&gt;&lt;body&gt;&lt;p style=\"text-align:...</td>\n",
       "    </tr>\n",
       "    <tr>\n",
       "      <th>6</th>\n",
       "      <td>anamnese - centro clínico   queixa principal:...</td>\n",
       "      <td>&lt;html tasy=\"html5\"&gt;&lt;body&gt;&lt;p style=\"text-align:...</td>\n",
       "    </tr>\n",
       "    <tr>\n",
       "      <th>7</th>\n",
       "      <td>anamnese/exame físico - ps anamnese:   queixa...</td>\n",
       "      <td>&lt;html tasy=\"html5\"&gt;&lt;body&gt;&lt;p style=\"text-align:...</td>\n",
       "    </tr>\n",
       "    <tr>\n",
       "      <th>10</th>\n",
       "      <td>evolução de enfermagem   6 o dih    hipótes...</td>\n",
       "      <td>&lt;html tasy=\"html5\"&gt;&lt;body&gt;&lt;p style=\"text-align:...</td>\n",
       "    </tr>\n",
       "    <tr>\n",
       "      <th>15</th>\n",
       "      <td>anamnese/exame físico - ps  queixa principal:...</td>\n",
       "      <td>&lt;html tasy=\"html5\"&gt;&lt;body&gt;&lt;p&gt;&lt;span style=\"\"&gt;&lt;sp...</td>\n",
       "    </tr>\n",
       "  </tbody>\n",
       "</table>\n",
       "</div>"
      ],
      "text/plain": [
       "                                       processed_text  \\\n",
       "0   anamnese - centro clínico   queixa principal:...   \n",
       "6   anamnese - centro clínico   queixa principal:...   \n",
       "7   anamnese/exame físico - ps anamnese:   queixa...   \n",
       "10  evolução de enfermagem   6 o dih    hipótes...   \n",
       "15  anamnese/exame físico - ps  queixa principal:...   \n",
       "\n",
       "                                                 text  \n",
       "0   <html tasy=\"html5\"><body><p style=\"text-align:...  \n",
       "6   <html tasy=\"html5\"><body><p style=\"text-align:...  \n",
       "7   <html tasy=\"html5\"><body><p style=\"text-align:...  \n",
       "10  <html tasy=\"html5\"><body><p style=\"text-align:...  \n",
       "15  <html tasy=\"html5\"><body><p><span style=\"\"><sp...  "
      ]
     },
     "execution_count": 58,
     "metadata": {},
     "output_type": "execute_result"
    }
   ],
   "source": [
    "# Função que limpa todo o html e deixa apenas o plain text\n",
    "def clean_html(text):\n",
    "    soup = BeautifulSoup(text, 'html.parser')\n",
    "    text = soup.get_text(separator = \" \")\n",
    "    #text = re.sub(r'\\u200b', ' ', text)\n",
    "    return text\n",
    "\n",
    "\n",
    "# Função que limpa caracteres especiais como \\xa0 e \\u200b\n",
    "def clean_special_characters(texto):\n",
    "    # Normaliza o texto para remover caracteres compostos\n",
    "    texto_normalizado = unicodedata.normalize('NFKD', texto)\n",
    "    # Remove caracteres de controle e espaços invisíveis\n",
    "    texto_limpo = ''.join(c for c in texto_normalizado if c.isprintable())\n",
    "    return texto_limpo.strip()\n",
    "\n",
    "# Faz o map da função clean_html para a coluna 'text' do dataframe\n",
    "def map_clean_text_type(row):\n",
    "    if row['text_type'] == 'text/html':\n",
    "        clean_text = clean_html(row['text'])\n",
    "        clean_text = clean_special_characters(clean_text)\n",
    "        return clean_text.lower()\n",
    "    else:\n",
    "        return row['text'].lower()\n",
    "\n",
    "# Filtra apenas textos do tipo 'text/html'\n",
    "df_doc_filtered = df_doc.loc[df_doc['text_type'] == 'text/html']\n",
    "# Aplica a função map_clean_text_type\n",
    "df_doc_filtered['processed_text'] = df_doc_filtered.apply(map_clean_text_type, axis=1)\n",
    "# Exibe as colunas 'processed_text' e 'text'\n",
    "df_doc_filtered[['processed_text', 'text']].head()\n"
   ]
  },
  {
   "cell_type": "code",
   "execution_count": null,
   "metadata": {},
   "outputs": [],
   "source": []
  },
  {
   "cell_type": "code",
   "execution_count": null,
   "metadata": {},
   "outputs": [],
   "source": [
    "# Função para transformar o DataFrame em um formato SpaCy treinável\n",
    "def create_training_data(df):\n",
    "    training_data = []\n",
    "    for text, entity in zip(df[\"processed_text\"], df[\"hipotese_diagnostica\"]):\n",
    "        start = text.find(entity)\n",
    "        if start != -1:  # Certifica de que a entidade existe no texto\n",
    "            end = start + len(entity)\n",
    "            training_data.append((text, {\"entities\": [(start, end, \"HIPOTESE_DIAGNOSTICA\")]}))\n",
    "    return training_data"
   ]
  },
  {
   "cell_type": "code",
   "execution_count": null,
   "metadata": {},
   "outputs": [],
   "source": [
    "# Criar os dados de treinamento no formato SpaCy\n",
    "training_data = create_training_data(df_doc_filtered)\n",
    "\n",
    "# Separa em treino (80%), validação (10%) e teste (10%)\n",
    "random.shuffle(training_data)\n",
    "train_data = training_data[:int(len(training_data) * 0.8)]\n",
    "valid_data = training_data[int(len(training_data) * 0.8):int(len(training_data) * 0.9)]\n",
    "test_data = training_data[int(len(training_data) * 0.9):]"
   ]
  },
  {
   "cell_type": "code",
   "execution_count": null,
   "metadata": {},
   "outputs": [
    {
     "name": "stdout",
     "output_type": "stream",
     "text": [
      "Dados de treinamento salvos em train_data.spacy\n",
      "Dados de treinamento salvos em val_data.spacy\n",
      "Dados de treinamento salvos em test_data.spacy\n"
     ]
    }
   ],
   "source": [
    "# Função para salvar os dados em formato binário do SpaCy\n",
    "def save_training_data(training_data, output_path=\"training_data.spacy\"):\n",
    "    nlp = spacy.blank(\"pt\")  # Usando modelo base em português\n",
    "    db = DocBin()  # Objeto para armazenar dados\n",
    "    for text, annotations in training_data:\n",
    "        doc = nlp.make_doc(text)\n",
    "        ents = []\n",
    "        for start, end, label in annotations[\"entities\"]:\n",
    "            span = doc.char_span(start, end, label=label)\n",
    "            if span is not None:\n",
    "                ents.append(span)\n",
    "        doc.ents = ents  # Adiciona as entidades no Doc\n",
    "        db.add(doc)\n",
    "    db.to_disk(output_path)\n",
    "    print(f\"Dados de treinamento salvos em {output_path}\")\n",
    "\n",
    "# Salvar os conjuntos de treino, validação e teste no formato binário do SpaCy\n",
    "save_training_data(train_data, \"train_data.spacy\")\n",
    "save_training_data(valid_data, \"val_data.spacy\")\n",
    "save_training_data(test_data, \"test_data.spacy\")\n"
   ]
  },
  {
   "cell_type": "markdown",
   "metadata": {},
   "source": [
    "## Treinamento\n",
    "\n",
    "O treinamento será realizado utilizando o módulo \"train\" nativo do spaCy, ativado via linha de comando com a especificação de um arquivo de configuração no formato `.cfg`. Esse arquivo contém as definições dos hiperparâmetros e outras configurações necessárias para o treinamento do modelo. Abaixo estão algumas configurações relevantes selecionadas e suas justificativas:\n",
    "\n",
    "- **batch_size = 32**: Foi escolhido um tamanho de batch pequeno para facilitar a convergência em um conjunto de dados com menos de 1000 sentenças. Isso também melhora a estabilidade do treinamento inicial.\n",
    "  \n",
    "- **dropout = 0.3**: Um valor de dropout relativamente elevado visa reduzir o risco de overfitting, que é um desafio comum ao trabalhar com conjuntos de dados limitados.\n",
    "\n",
    "- **learn_rate = 0.0005**: Uma taxa de aprendizado pequena permite ajustes mais finos nos pesos do modelo, evitando oscilações em cenários de treinamento com poucos dados.\n",
    "\n",
    "- **max_epochs = 20**: Um limite de épocas reduzido para garantir que o treinamento não exceda o necessário, prevenindo overfitting e otimizando o uso de recursos computacionais.\n",
    "\n",
    "- **patience = 1000**: O critério de early stopping foi configurado para aguardar até 1000 iterações sem melhorias no desempenho antes de interromper o treinamento. Essa configuração busca garantir que o modelo tenha tempo suficiente para explorar possíveis melhorias, mesmo em um conjunto de dados pequeno.\n",
    "\n",
    "- **eval_frequency = 50**: Configurado para realizar avaliações frequentes durante o treinamento, possibilitando um monitoramento mais próximo do progresso e da estabilidade do modelo.\n",
    "\n",
    "- **grad_clip = 0.5**: O clipping do gradiente foi ajustado para limitar grandes variações nas atualizações dos pesos, promovendo maior estabilidade no processo de aprendizado.\n",
    "\n",
    "Essas escolhas foram feitas com o objetivo de adaptar o treinamento ao tamanho do conjunto de dados, reduzindo o risco de overfitting e melhorando a eficiência do processo. \n",
    "\n",
    "Outro ponto importante a se mencionar é que a métrica escolhida para ser maximizada ao longo do processo de treinamento foi o F1-Score. Essa escolha é motivada pela natureza do problema de NER, no qual é importante não apenas identificar corretamente as entidades (alta precisão), mas também capturar todas as entidades relevantes (alto recall). O F1-Score fornece um equilíbrio entre essas métricas, sendo particularmente adequado para avaliar o desempenho em tarefas onde tanto falsos positivos quanto falsos negativos podem ter impacto significativo. Isso garante uma avaliação mais abrangente e justa do modelo, especialmente em conjuntos de dados pequenos e desbalanceados."
   ]
  },
  {
   "cell_type": "code",
   "execution_count": null,
   "metadata": {},
   "outputs": [
    {
     "name": "stdout",
     "output_type": "stream",
     "text": [
      "\u001b[38;5;4mℹ Saving to output directory: output\u001b[0m\n",
      "\u001b[38;5;4mℹ Using CPU\u001b[0m\n",
      "\u001b[1m\n",
      "=========================== Initializing pipeline ===========================\u001b[0m\n",
      "[2025-01-18 18:52:50,015] [WARNING] [W112] The model specified to use for initial vectors (pt_core_news_sm) has no vectors. This is almost certainly a mistake.\n",
      "\u001b[38;5;2m✔ Initialized pipeline\u001b[0m\n",
      "\u001b[1m\n",
      "============================= Training pipeline =============================\u001b[0m\n",
      "\u001b[38;5;4mℹ Pipeline: ['tok2vec', 'ner']\u001b[0m\n",
      "\u001b[38;5;4mℹ Initial learn rate: 0.0005\u001b[0m\n",
      "E    #       LOSS TOK2VEC  LOSS NER  ENTS_F  ENTS_P  ENTS_R  SCORE \n",
      "---  ------  ------------  --------  ------  ------  ------  ------\n",
      "  0       0          0.00     31.33    0.00    0.00    0.00    0.00\n",
      "  0      50          1.01   1343.37    0.00    0.00    0.00    0.00\n",
      "  0     100          0.52     69.43   49.68   51.32   48.15    0.50\n",
      "  0     150          0.95     56.29   50.93   51.25   50.62    0.51\n",
      "  0     200          3.36     93.15   61.54   59.09   64.20    0.62\n",
      "  0     250          1.46     61.41   56.47   53.93   59.26    0.56\n",
      "  0     300          1.69     55.86   47.62   66.67   37.04    0.48\n",
      "  0     350          1.79     45.31   69.82   67.05   72.84    0.70\n",
      "  0     400          3.30     50.31   83.33   80.46   86.42    0.83\n",
      "  0     450          2.94     36.54   85.71   82.76   88.89    0.86\n",
      "  0     500          2.52     24.12   84.02   80.68   87.65    0.84\n",
      "  0     550          4.89     34.94   77.84   75.58   80.25    0.78\n",
      "  0     600          5.72     42.41   78.21   81.33   75.31    0.78\n",
      "  0     650          7.20     49.06   75.58   71.43   80.25    0.76\n",
      "  1     700          5.49     38.80   85.21   81.82   88.89    0.85\n",
      "  1     750          4.79     25.92   83.53   79.78   87.65    0.84\n",
      "  1     800          5.64     30.33   83.44   82.93   83.95    0.83\n",
      "  1     850          5.48     25.09   81.71   80.72   82.72    0.82\n",
      "  1     900         11.21     52.73   81.44   79.07   83.95    0.81\n",
      "  1     950          8.44     38.85   85.54   83.53   87.65    0.86\n",
      "  1    1000          3.38     14.95   84.52   81.61   87.65    0.85\n",
      "  1    1050         14.42     50.01   82.89   88.73   77.78    0.83\n",
      "  1    1100          8.88     35.46   87.27   85.71   88.89    0.87\n",
      "  1    1150          9.54     38.70   86.59   85.54   87.65    0.87\n",
      "  1    1200          9.82     26.01   81.82   86.30   77.78    0.82\n",
      "  1    1250          9.72     31.48   86.39   82.95   90.12    0.86\n",
      "  1    1300         13.59     41.32   82.93   81.93   83.95    0.83\n",
      "  1    1350         11.08     42.92   85.19   85.19   85.19    0.85\n",
      "  2    1400         12.50     39.31   86.90   83.91   90.12    0.87\n",
      "  2    1450         12.44     31.85   87.80   86.75   88.89    0.88\n",
      "  2    1500          8.05     23.99   80.54   88.24   74.07    0.81\n",
      "  2    1550         12.89     37.19   87.50   88.61   86.42    0.87\n",
      "  2    1600          8.51     23.38   86.90   83.91   90.12    0.87\n",
      "  2    1650          9.53     22.80   85.54   83.53   87.65    0.86\n",
      "  2    1700         13.53     39.00   84.71   80.90   88.89    0.85\n",
      "  2    1750         11.50     37.58   86.39   82.95   90.12    0.86\n",
      "  2    1800         12.26     43.94   80.00   81.01   79.01    0.80\n",
      "  2    1850         11.45     34.04   80.75   81.25   80.25    0.81\n",
      "  2    1900         10.30     27.51   85.71   86.25   85.19    0.86\n",
      "  2    1950          6.75     23.36   83.95   83.95   83.95    0.84\n",
      "  2    2000          6.37     16.17   86.05   81.32   91.36    0.86\n",
      "  3    2050         11.02     24.30   81.82   86.30   77.78    0.82\n",
      "  3    2100          9.92     26.11   84.15   83.13   85.19    0.84\n",
      "  3    2150         16.06     32.58   81.29   85.14   77.78    0.81\n",
      "  3    2200          7.99     20.78   86.59   85.54   87.65    0.87\n",
      "  3    2250         15.81     37.17   85.19   85.19   85.19    0.85\n",
      "  3    2300         15.45     45.03   78.43   83.33   74.07    0.78\n",
      "  3    2350       1566.44     44.31   80.45   73.47   88.89    0.80\n",
      "  3    2400         11.82     35.67   86.23   83.72   88.89    0.86\n",
      "  3    2450          8.49     21.65   83.54   85.71   81.48    0.84\n",
      "\u001b[38;5;2m✔ Saved pipeline to output directory\u001b[0m\n",
      "output/model-last\n"
     ]
    }
   ],
   "source": [
    "# Linha de comando para treinar o modelo\n",
    "!python -m spacy train config.cfg --output ./output --paths.train ./train_data.spacy --paths.dev ./val_data.spacy "
   ]
  },
  {
   "cell_type": "markdown",
   "metadata": {},
   "source": [
    "# Avaliação\n",
    "\n",
    "O melhor desempenho foi atingido na época 2, passo 1450, onde foi atingido um F1-Score de 0.88 no conunto de validação. Abaixo, será realizada a avaliação no conunto de teste a partir do módulo \"evalute\" do spacy."
   ]
  },
  {
   "cell_type": "code",
   "execution_count": 35,
   "metadata": {},
   "outputs": [
    {
     "name": "stdout",
     "output_type": "stream",
     "text": [
      "\u001b[38;5;4mℹ Using CPU\u001b[0m\n",
      "\u001b[1m\n",
      "================================== Results ==================================\u001b[0m\n",
      "\n",
      "TOK     100.00\n",
      "NER P   81.82 \n",
      "NER R   77.78 \n",
      "NER F   79.75 \n",
      "SPEED   3138  \n",
      "\n",
      "\u001b[1m\n",
      "=============================== NER (per type) ===============================\u001b[0m\n",
      "\n",
      "                           P       R       F\n",
      "HIPOTESE_DIAGNOSTICA   81.82   77.78   79.75\n",
      "\n",
      "\u001b[38;5;2m✔ Saved results to metrics.json\u001b[0m\n"
     ]
    }
   ],
   "source": [
    "!python -m spacy evaluate output/model-best test_data.spacy --output metrics.json"
   ]
  },
  {
   "cell_type": "markdown",
   "metadata": {},
   "source": [
    "O F1-Score obtido no conjunto de teste foi de aproximadamente 0.8, que configura um valor relativamente alto, mas vale notar que muito provavelmente este modelo não se generaliza para textos com escritas diferentes dos usados no conjunto de treinamento. Isso se dá porque, por questões de tempo e simplificação, utilizou-se apenas a anotaçõa de dados através da extração das palavras que se encontram logo após o campo \"Hipótese Diagnóstica\". Abaixo será realizado um pequeno teste para validar esta hipótese."
   ]
  },
  {
   "cell_type": "code",
   "execution_count": 59,
   "metadata": {},
   "outputs": [],
   "source": [
    "# Carrega o modelo treinado\n",
    "nlp = spacy.load(\"./output/model-best\")"
   ]
  },
  {
   "cell_type": "code",
   "execution_count": null,
   "metadata": {},
   "outputs": [
    {
     "name": "stdout",
     "output_type": "stream",
     "text": [
      "Sentença:  anamnese/exame físico - ps anamnese:   queixa e duração:  febre há 2 dias + dor abdominal + vomitos 4 vezes hoje alergias:  d esconhece antecedentes pessoais:  ( ) nenhum ap ( ) cardiopatia ( ) hipertens ã o ( ) dm ( ) atualmente gr á vida medicamento de uso: sinais vitais/ controle:  pa:   x   / fc:   / sato2:   / fr:   / temperatura:   / dor:   / glicemia capilar :    /  peso:   / altura:    exame físico:  beg, lote, chaaa 1 - snc:  glasgow 15 sem d é ficit motor. pupilas isoc ó ricas e fotorreagentes, nuca livre, sem sinais meningismo.  2 - c e p: hiperemia de of 3 - acv:  bulhas r í tmicas normofon é ticas, sem sopros aud í veis. 4 - ar:  mu rmúrio vesi cular (+) bilateral, sem ru í dos advent í cios. 5 - abd:  plano, ruídos hidroaéreos (+), fláci do, indolor à palpação,  sem visceromegalias, sem sinais de irrita çã o peritoneal (db -). 6 - membros:  perfus ã o preservada, panturrilhas livres, sem edemas.  hipótese diagnóstica:   faringite  conduta:  rx de abdome  status da consulta:  ( ) medica çã o ( ) exames ( ) observa çã o\n",
      "Entidades preditas: \n",
      "faringite HIPOTESE_DIAGNOSTICA\n"
     ]
    }
   ],
   "source": [
    "# Faz a predição em um texto aleatório do conjunto de teste\n",
    "sentenca = test_data[2][0]\n",
    "\n",
    "print(\"Sentença: \", sentenca)\n",
    "\n",
    "doc = nlp(sentenca)\n",
    "\n",
    "# Exibe as entidades preditas\n",
    "print(\"Entidades preditas: \")\n",
    "if doc.ents:\n",
    "    for ent in doc.ents:\n",
    "        print(ent.text, ent.label_)\n",
    "else:\n",
    "    print(\"Nenhuma entidade encontrada.\")"
   ]
  },
  {
   "cell_type": "markdown",
   "metadata": {},
   "source": [
    "O modelo funcionou corretamente ao extrair \"faringite\" de uma sentença do conjunto de teste, à qual não foi exposto durante seu treinamento. Para avaliar a generalização do modelo, vamos fazer este mesmo teste, com uma frase inventada por mim, com a mesma entidade (faringite), mas num texto fora do padrão de treino."
   ]
  },
  {
   "cell_type": "code",
   "execution_count": 67,
   "metadata": {},
   "outputs": [
    {
     "name": "stdout",
     "output_type": "stream",
     "text": [
      "Sentença:  O paciente se encontra com faringite aguda.\n",
      "Entidades preditas: \n",
      "Nenhuma entidade encontrada.\n"
     ]
    }
   ],
   "source": [
    "sentenca = \"O paciente se encontra com faringite aguda.\"\n",
    "\n",
    "print(\"Sentença: \", sentenca)\n",
    "\n",
    "doc = nlp(sentenca)\n",
    "\n",
    "# Exibe as entidades preditas\n",
    "print(\"Entidades preditas: \")\n",
    "if doc.ents:\n",
    "    for ent in doc.ents:\n",
    "        print(ent.text, ent.label_)\n",
    "else:\n",
    "    print(\"Nenhuma entidade encontrada.\")"
   ]
  },
  {
   "cell_type": "markdown",
   "metadata": {},
   "source": [
    "O modelo não conseguiu identificar corretamente a entidade \"faringite\" nesta sentença, evidenciando um viés significativo em relação ao formato de escrita do documento. Além disso, o F1-Score obtido reflete esse viés, já que o conjunto de teste segue o mesmo padrão de escrita que o conjunto de treinamento.\n",
    "\n",
    "Em um cenário de aplicação real, seria essencial investir mais esforços na anotação e preparação do conjunto de dados para mitigar esses problemas. Soluções baseadas apenas em expressões regulares, como as utilizadas neste caso, frequentemente não são suficientes para treinar modelos de alto desempenho. Duas abordagens mais robustas para lidar com esse desafio incluem:\n",
    "\n",
    "1. **Pré-anotação de dados com LLMs**: Utilizar modelos de linguagem para realizar uma pré-anotação automática, seguida de curadoria manual nas labels com pior desempenho. Ferramentas como o Amazon A2I podem ser úteis nesse processo.  \n",
    "2. **Serviços especializados de anotação**: Contratar serviços de anotação oferecidos por terceiros, como o Amazon Ground Truth, para garantir um conjunto de dados mais variado e representativo.\n",
    "\n",
    "Ressalto que meu background em serviços da AWS me faz lembrar dessas soluções específicas, mas alternativas semelhantes estão disponíveis em outras plataformas de nuvem e podem ser igualmente adequadas ao contexto.\n"
   ]
  },
  {
   "cell_type": "markdown",
   "metadata": {},
   "source": [
    "# Etapa 3\n",
    "- Se fizesse as extrações via prompt, que tipo de prompt você usaria para extrair informações desses documentos médicos? Mostre exemplos."
   ]
  },
  {
   "cell_type": "code",
   "execution_count": null,
   "metadata": {},
   "outputs": [],
   "source": []
  }
 ],
 "metadata": {
  "kernelspec": {
   "display_name": "spacy",
   "language": "python",
   "name": "python3"
  },
  "language_info": {
   "codemirror_mode": {
    "name": "ipython",
    "version": 3
   },
   "file_extension": ".py",
   "mimetype": "text/x-python",
   "name": "python",
   "nbconvert_exporter": "python",
   "pygments_lexer": "ipython3",
   "version": "3.12.8"
  }
 },
 "nbformat": 4,
 "nbformat_minor": 2
}
